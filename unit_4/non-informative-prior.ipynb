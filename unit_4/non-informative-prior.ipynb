{
 "cells": [
  {
   "cell_type": "markdown",
   "metadata": {},
   "source": [
    "# <center>NON-INFORMATIVE PRIORS</center>\n",
    "\n",
    "Một trong những qui trình Bayesian Inference là làm cho prior có càng ít thông tin càng tốt.  \n",
    "Hay hơn nữa, chúng ta có thể dùng những prior mà nó không chứa thông tin gì cả.  "
   ]
  },
  {
   "cell_type": "markdown",
   "metadata": {},
   "source": [
    "Ví dụ:  \n",
    "- Đồng xu có thể dùng prior là Uniform(0,1) hoặc Beta(1,1) do mọi khả năng p(head) đều như nhau, effective sample size =2 nên nó còn chứa thông tin mơ hồ.\n",
    "- Cực đoan hơn, ta dùng improper prior là beta(0,0)"
   ]
  },
  {
   "cell_type": "markdown",
   "metadata": {},
   "source": [
    "---\n",
    "# IMPROPER PRIORS\n",
    "là những prior có tích phân PDF = infinity.  \n",
    "Những prior về lý thuyết là không thực tế, tuy nhiên khi ra posterior thì posterior vẫn có thể dùng ra, cho 95% CI, và inference trên đó.\n",
    "\n",
    "Một số improper priors:\n",
    "- Bernoulli/binomial: Beta(0,0)\n",
    "- Normal: $f(\\mu) \\propto 1  $  \n",
    "Khi đó, posterior $f(\\mu|y) \\propto f(y|\\mu)f(\\mu) = f(y|\\mu)$  \n",
    "posterior $f(\\mu|y) \\sim N(\\overline{y}, \\sigma^2/n)$  \n",
    "Ta thấy nó tương tự với frequentist inference.\n",
    "- Normal with variance unknown: $f(\\sigma^2) \\propto \\Gamma^{-1} (0, 0)$  \n",
    "Hay $ f(\\sigma^2) \\propto 1/\\sigma^2 $  \n",
    "Khi đó, posterior $f(\\sigma^2|y) \\sim \\Gamma^{-1} (a, b) $  \n",
    "$ a =\\frac{n-1}{2} $  \n",
    "$ b = \\frac{1}{2} \\sum(y_i- \\overline{y})^2 $"
   ]
  },
  {
   "cell_type": "markdown",
   "metadata": {},
   "source": [
    "--- \n",
    "# Jeffreys prior\n",
    "là priors không bị đổi hình dạng khi theta bị thay đổi thành g(theta). Prior này thích hợp cho scale parameters.  \n",
    "$f(\\theta) \\propto \\sqrt{I(\\theta)} $  \n",
    "Với  $\\sqrt{I(\\theta)} $ là fisher information\n",
    "\n",
    "Normal: $f(\\mu) \\propto 1; f(\\sigma^2) \\propto 1/\\sigma^2 $  \n",
    "Bernoulli: $f(\\theta) \\propto \\theta^{-1/2}(1-\\theta)^{-1/2} = \\text{beta} (1/2, 1/2) $"
   ]
  }
 ],
 "metadata": {
  "kernelspec": {
   "display_name": "Python 3",
   "language": "python",
   "name": "python3"
  },
  "language_info": {
   "codemirror_mode": {
    "name": "ipython",
    "version": 3
   },
   "file_extension": ".py",
   "mimetype": "text/x-python",
   "name": "python",
   "nbconvert_exporter": "python",
   "pygments_lexer": "ipython3",
   "version": "3.7.6"
  }
 },
 "nbformat": 4,
 "nbformat_minor": 4
}
