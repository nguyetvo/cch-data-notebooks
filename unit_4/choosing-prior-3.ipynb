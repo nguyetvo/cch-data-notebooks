{
 "cells": [
  {
   "cell_type": "markdown",
   "metadata": {},
   "source": [
    "# <center>CHOOSING PRIOR 3</center>"
   ]
  },
  {
   "cell_type": "markdown",
   "metadata": {},
   "source": [
    "---\n",
    "# Norm $\\propto$ norm $\\times$ norm (biết variance của  data)\n",
    "\n",
    "**Công thức:**  \n",
    "Posterior N<font size=\"+1\">$\\left(\\frac{n}{n+\\frac{\\sigma^2_0}{s^2_0}}\\overline{X} + \\frac{\\frac{\\sigma^2_0}{s^2_0}}{n+\\frac{\\sigma^2_0}{s^2_0}}m_0, \\frac{\\sigma^2_0}{n+\\frac{\\sigma^2_0}{s^2_0}}  \\right) \\propto $</font>\n",
    "Likelihood N$\\left( \\mu, \\sigma^2_0       \\right) \\times $\n",
    "Prior N$\\left( m_0, s^2_0       \\right)  $\n",
    "\n",
    "Trong đó:\n",
    "- Các số $\\sigma_0, m_0, s_0 $ là biết trước\n",
    "- $\\overline{X}$ là trung bình của data, tức là $\\mu$"
   ]
  },
  {
   "cell_type": "markdown",
   "metadata": {},
   "source": [
    "### Từ posterior mean, ta thấy:\n",
    "- posterior mean = data *weight* x data mean + sample *weight* x sample mean\n",
    "- n là data size, $\\frac{\\sigma^2_0}{s^2_0}$ là effective sample size\n",
    "- effective sample size là tỉ số giữa variance data và variance prior\n",
    "\n",
    "### Công thức trên hợp lý, thực vậy:\n",
    "- Khi $s_0$ lớn, tức prior variance cao, prior không chứa thông tin nhiều\n",
    "- Sample weight nhỏ so với data weight\n",
    "\n",
    "### Prior predictive distribution:\n",
    "- $\\int^{\\infty}_{-\\infty} f(x|\\mu)f(\\mu)d\\mu$\n",
    "- Có thể nói một data mới $x = \\mu + \\epsilon, \\mu = m_0 +\\eta$\n",
    "- Với $\\epsilon \\sim N(0, s^2_0), \\eta \\sim N(0,\\sigma^2_0)$\n",
    "- Vậy:\n",
    "    - $ x \\sim N(m_0, s^2_0 + \\sigma^2_0)$\n",
    "    \n",
    "### Posterior predictive distribution:  \n",
    "Tương tự với trên, ta có:  \n",
    "x $\\sim$ N(posterior mean, posterior variance + data variance)\n"
   ]
  },
  {
   "cell_type": "markdown",
   "metadata": {},
   "source": [
    "---\n",
    "# Norm $\\propto$ norm $\\times$ norm (không biết variance của  data)\n",
    "\n",
    "Khi ta không biết variance thực sự của data, ta có thể:\n",
    "1. Chọn một con số thích hợp\n",
    "2. Tính variance của data rồi áp vào\n",
    "3. Model variance của data theo phân phối inverse gamma. **bài sẽ nói pp này**"
   ]
  },
  {
   "cell_type": "markdown",
   "metadata": {},
   "source": [
    "**Công thức:**  \n",
    "- Giả sử một biến số x:  \n",
    "$ x \\sim N(\\mu, \\sigma^2) $  \n",
    "- Prior cho $\\mu$:  \n",
    "$ \\mu \\sim N(m, \\sigma_\\mu^2 = \\frac{\\sigma^2}{w})$ với $ w=\\frac{\\sigma^2}{\\sigma^2_\\mu}$  \n",
    "- Prior cho $\\sigma^2$:  \n",
    "$ \\sigma^2 \\sim \\Gamma^{-1} (\\alpha, \\beta) $  \n",
    "\n",
    "Sau khi tính toán, ta có:  \n",
    "- posterior cho $\\sigma^2$:  \n",
    "$ \\sigma^2|X \\sim \\Gamma^{-1} \\left(\\alpha +\\frac{n}{2}, \\beta + \\frac{1}{2}\\displaystyle\\sum_{i=1}^n(X_i -\\overline{X})^2 + \\frac{nw}{2(n+w)}(\\overline{X}-m)^2\\right)$   \n",
    "- posterior cho $\\mu$:  \n",
    "<font size=\"+1\">$ \\mu|\\sigma^2, X \\sim N\\left( \\frac{n}{n+w}\\overline{X} + \\frac{w}{n+w}m, \\frac{\\sigma^2}{n+w}      \\right) $</font>  \n",
    "\n",
    "Để ý mean của posterior $\\mu$, ta thấy nó là:  \n",
    "- data weight x data mean + prior weight x prior mean\n",
    "- w là effective sample size\n",
    "\n",
    "Chúng ta có thể lồng ghép cho $\\sigma^2$ để posterior $\\mu$ không phụ thuộc nó nữa, khi đó $\\mu$ sẽ có phân phối t.  \n",
    "$\\mu|X \\sim t$( dof, loc, scale)\n",
    "- dof = $2\\alpha + n$ \n",
    "- loc = <font size=\"+1\">$\\frac{n\\overline{X} + wm}{n+w}$</font>\n",
    "- scale = <font size=\"+1\">$\\sqrt{ \\frac{ \\beta+ \\frac{n-1}{2}s^2 + \\frac{nw}{2(n+w)}(\\overline{X}-m)^2  }{(n+w)(\\alpha + n/2)}  }$</font> với $s^2 = \\sum(X_i - \\overline{X})^2/(n-1) $ là sample variance."
   ]
  },
  {
   "cell_type": "markdown",
   "metadata": {},
   "source": [
    "---"
   ]
  },
  {
   "cell_type": "code",
   "execution_count": 1,
   "metadata": {},
   "outputs": [],
   "source": [
    "# Ví dụ về đo nhiệt độ sôi của nước\n",
    "# Lấy data là nhiệt độ đo được khi nước bắt đầu sôi bằng thermometer\n",
    "# data phân phối theo normal (mean = theta, var = 0.25) (đã biết var)\n",
    "# Giả sữ prior cho theta có mean = 100, var = s^2\n",
    "# posterior Y|theta = N( theta, 0.25); theta = N( 100, s^2)"
   ]
  },
  {
   "cell_type": "code",
   "execution_count": 2,
   "metadata": {},
   "outputs": [],
   "source": [
    "import numpy as np\n",
    "import scipy.stats as st\n",
    "import matplotlib.pyplot as plt\n",
    "%matplotlib inline"
   ]
  },
  {
   "cell_type": "code",
   "execution_count": 53,
   "metadata": {},
   "outputs": [],
   "source": [
    "data = np.array([94.6, 95.4, 96.2, 94.9, 95.9])\n",
    "\n",
    "n = len(data)\n",
    "data_mean = data.mean()\n",
    "data_sigma2 = 0.25"
   ]
  },
  {
   "cell_type": "code",
   "execution_count": 52,
   "metadata": {},
   "outputs": [],
   "source": [
    "# tính var của prior\n",
    "# giả sử sample effective size = 1\n",
    "# 0.25 / s2 = 1 => s2 = 0.25\n",
    "prior_s2 = 0.25\n",
    "\n",
    "prior_mean = 100"
   ]
  },
  {
   "cell_type": "code",
   "execution_count": 54,
   "metadata": {},
   "outputs": [
    {
     "data": {
      "text/plain": [
       "(96.16666666666669, 0.041666666666666664)"
      ]
     },
     "execution_count": 54,
     "metadata": {},
     "output_type": "execute_result"
    }
   ],
   "source": [
    "# effective sample size = 1 \n",
    "w = data_sigma2/prior_s2\n",
    "\n",
    "# posterior_mean\n",
    "posterior_mean = n/(n+w)*data_mean + w/(n+w)*prior_mean\n",
    "\n",
    "# posterior var\n",
    "posterior_var = data_sigma2 / (n+w)\n",
    "\n",
    "posterior_mean, posterior_var"
   ]
  },
  {
   "cell_type": "code",
   "execution_count": 57,
   "metadata": {},
   "outputs": [
    {
     "data": {
      "text/plain": [
       "(95.76659069363707, 96.5667426396963)"
      ]
     },
     "execution_count": 57,
     "metadata": {},
     "output_type": "execute_result"
    }
   ],
   "source": [
    "# 95% HPD\n",
    "st.norm(loc=posterior_mean, scale=np.sqrt(posterior_var)).interval(.95)"
   ]
  },
  {
   "cell_type": "code",
   "execution_count": 8,
   "metadata": {},
   "outputs": [
    {
     "data": {
      "text/plain": [
       "1.0"
      ]
     },
     "execution_count": 8,
     "metadata": {},
     "output_type": "execute_result"
    }
   ],
   "source": [
    "# mật độ xác suất theta < 100\n",
    "st.norm(loc=5/6 * data.mean() + 1/6*100, scale=np.sqrt(0.25/6)).cdf(100)\n",
    "\n",
    "# cdf =1 nghĩa là xác suất posterior mean < 100 là 100%. Tức là thermometer bị sai số xuống giá trị thấp"
   ]
  },
  {
   "cell_type": "code",
   "execution_count": 56,
   "metadata": {},
   "outputs": [
    {
     "data": {
      "text/plain": [
       "(96.16666666666669, 0.2916666666666667)"
      ]
     },
     "execution_count": 56,
     "metadata": {},
     "output_type": "execute_result"
    }
   ],
   "source": [
    "# posterior predictive distribution\n",
    "# N(posterior_mean , data_var + posterior_var)\n",
    "posterior_mean, data_sigma2 + posterior_var"
   ]
  },
  {
   "cell_type": "markdown",
   "metadata": {},
   "source": [
    "---"
   ]
  },
  {
   "cell_type": "code",
   "execution_count": 37,
   "metadata": {},
   "outputs": [],
   "source": [
    "# Đo trọng lượng bánh của tiệm bánh A\n",
    "# data phân phối normal không biết mean và variance, n = 27\n",
    "# trong luong ~ N( mean, sigma^2)\n",
    "# mean ~ N(m , sigma^2/w), effective sample size w=0.1 do không chắc lắm\n",
    "# mình dự đoán m = 500\n",
    "# sigma^2 ~ Inverse Gamma (a=3, b=200); trung bình là 100\n",
    "\n",
    "# prior mean\n",
    "m = 500\n",
    "w = 0.1\n",
    "\n",
    "# prior sigma^2\n",
    "a = 3\n",
    "b = 200\n",
    "\n",
    "# data\n",
    "n = 27\n",
    "x = 609.7\n",
    "s2 = 401.8"
   ]
  },
  {
   "cell_type": "code",
   "execution_count": 59,
   "metadata": {},
   "outputs": [
    {
     "data": {
      "text/plain": [
       "94.83405869378143"
      ]
     },
     "execution_count": 59,
     "metadata": {},
     "output_type": "execute_result"
    }
   ],
   "source": [
    "# rvs(n) là sampling n mẫu\n",
    "prior_sigma_rvs = st.invgamma(a=a, scale=b).rvs(300)\n",
    "prior_sigma_rvs.mean()"
   ]
  },
  {
   "cell_type": "code",
   "execution_count": 39,
   "metadata": {},
   "outputs": [
    {
     "data": {
      "text/plain": [
       "(16.5, 6022.884188191883)"
      ]
     },
     "execution_count": 39,
     "metadata": {},
     "output_type": "execute_result"
    }
   ],
   "source": [
    "# posterior sigma^2\n",
    "alpha = a + n/2\n",
    "beta = b + (n-1)/2*s2 + w*n/ ( 2*(w+n)) * (x-m)**2\n",
    "alpha, beta"
   ]
  },
  {
   "cell_type": "code",
   "execution_count": 40,
   "metadata": {},
   "outputs": [
    {
     "data": {
      "text/plain": [
       "609.2952029520295"
      ]
     },
     "execution_count": 40,
     "metadata": {},
     "output_type": "execute_result"
    }
   ],
   "source": [
    "# posterior mu \n",
    "mu_mean = (n*x + w*m)/(n+w)\n",
    "mu_mean"
   ]
  },
  {
   "cell_type": "code",
   "execution_count": 45,
   "metadata": {},
   "outputs": [],
   "source": [
    "# sampling posterior mu mean\n",
    "# đầu tiên sampling posterior sigma\n",
    "# sau đó cho vào posterior mu rồi sampling\n",
    "\n",
    "posterior_sigma_rvs = st.invgamma(a=alpha, scale=beta).rvs(1000)\n",
    "\n",
    "posterior_mu_rvs = st.norm(loc=mu_mean, scale = np.sqrt(posterior_sigma_rvs/(n+w))).rvs(1000)"
   ]
  },
  {
   "cell_type": "code",
   "execution_count": 46,
   "metadata": {},
   "outputs": [
    {
     "data": {
      "text/plain": [
       "array([601.82015773, 616.48640522])"
      ]
     },
     "execution_count": 46,
     "metadata": {},
     "output_type": "execute_result"
    }
   ],
   "source": [
    "# 95% CI for posterior mu\n",
    "np.quantile(posterior_mu_rvs, [0.025, 0.975])"
   ]
  },
  {
   "cell_type": "code",
   "execution_count": 48,
   "metadata": {},
   "outputs": [],
   "source": [
    "# data ở một tiệm bánh B\n",
    "# prior mean\n",
    "m_B = 500\n",
    "w_B = 0.1\n",
    "\n",
    "# prior sigma^2\n",
    "a_B = 3\n",
    "b_B = 200\n",
    "\n",
    "# data\n",
    "n_B = 30\n",
    "x_B = 622.8\n",
    "s2_B = 403.1"
   ]
  },
  {
   "cell_type": "code",
   "execution_count": 49,
   "metadata": {},
   "outputs": [
    {
     "data": {
      "text/plain": [
       "array([615.39433943, 629.0970516 ])"
      ]
     },
     "execution_count": 49,
     "metadata": {},
     "output_type": "execute_result"
    }
   ],
   "source": [
    "alpha_B = a_B + n_B/2\n",
    "beta_B = b_B + (n_B-1)/2*s2_B + w_B*n_B/ ( 2*(w_B+n_B)) * (x_B-m_B)**2\n",
    "mu_mean_B = (n_B*x_B + w_B*m_B)/(n_B+w_B)\n",
    "posterior_sigma_rvs_B = st.invgamma(a=alpha_B, scale=beta_B).rvs(1000)\n",
    "posterior_mu_rvs_B = st.norm(loc=mu_mean_B, scale = np.sqrt(posterior_sigma_rvs_B/(n_B+w_B))).rvs(1000)\n",
    "np.quantile(posterior_mu_rvs_B, [0.025, 0.975])"
   ]
  },
  {
   "cell_type": "code",
   "execution_count": 50,
   "metadata": {},
   "outputs": [
    {
     "data": {
      "text/plain": [
       "0.996"
      ]
     },
     "execution_count": 50,
     "metadata": {},
     "output_type": "execute_result"
    }
   ],
   "source": [
    "# Null hypothesis: tiệm bánh B tốt hơn tiệm bánh A\n",
    "# tức là bánh ở tiệm B nhiều hơn bánh ở tiệm A\n",
    "# lấy n mẫu từ posterior mu ở B so sánh với n mẫu từ posterior mu A. Sau đó cộng lại chia n\n",
    "np.sum(posterior_mu_rvs_B > posterior_mu_rvs)/1000"
   ]
  },
  {
   "cell_type": "markdown",
   "metadata": {},
   "source": [
    "**Xác suất tiệm bánh B cho nhiều hơn tiệm bánh A >95%.**"
   ]
  }
 ],
 "metadata": {
  "kernelspec": {
   "display_name": "Python 3",
   "language": "python",
   "name": "python3"
  },
  "language_info": {
   "codemirror_mode": {
    "name": "ipython",
    "version": 3
   },
   "file_extension": ".py",
   "mimetype": "text/x-python",
   "name": "python",
   "nbconvert_exporter": "python",
   "pygments_lexer": "ipython3",
   "version": "3.7.6"
  }
 },
 "nbformat": 4,
 "nbformat_minor": 4
}
