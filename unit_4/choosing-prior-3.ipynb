{
 "cells": [
  {
   "cell_type": "markdown",
   "metadata": {},
   "source": [
    "# <center>CHOOSING PRIOR 3</center>"
   ]
  },
  {
   "cell_type": "markdown",
   "metadata": {},
   "source": [
    "---\n",
    "# Norm $\\propto$ norm $\\times$ norm (biết variance của  data)\n",
    "\n",
    "**Công thức:**  \n",
    "Posterior N$\\left(\\frac{n}{n+\\frac{\\sigma^2_0}{s^2_0}}\\overline{X} + \\frac{\\frac{\\sigma^2_0}{s^2_0}}{n+\\frac{\\sigma^2_0}{s^2_0}}m_0, \\frac{\\sigma^2_0}{n+\\frac{\\sigma^2_0}{s^2_0}}  \\right) \\propto $\n",
    "Likelihood N$\\left( \\mu, \\sigma^2_0       \\right) \\times $\n",
    "Prior N$\\left( m_0, s^2_0       \\right)  $\n",
    "\n",
    "Trong đó:\n",
    "- Các số $\\sigma_0, m_0, s_0 $ là biết trước\n",
    "- $\\overline{X}$ là trung bình của data, tức là $\\mu$"
   ]
  },
  {
   "cell_type": "markdown",
   "metadata": {},
   "source": [
    "### Từ posterior mean, ta thấy:\n",
    "- posterior mean = data *weight* x data mean + sample *weight* x sample mean\n",
    "- n là data size, $\\frac{\\sigma^2_0}{s^2_0}$ là effective sample size\n",
    "- effective sample size là tỉ số giữa variance data và variance prior\n",
    "\n",
    "### Công thức trên hợp lý, thực vậy:\n",
    "- Khi $s_0$ lớn, tức prior variance cao, prior không chứa thông tin nhiều\n",
    "- Sample weight nhỏ so với data weight\n",
    "\n",
    "### Prior predictive distribution:\n",
    "- $\\int^{\\infty}_{-\\infty} f(x|\\mu)f(\\mu)d\\mu$\n",
    "- Có thể nói một data mới $x = \\mu + \\epsilon, \\mu = m_0 +\\eta$\n",
    "- Với $\\epsilon \\sim N(0, s^2_0), \\eta \\sim N(0,\\sigma^2_0)$\n",
    "- Vậy:\n",
    "    - $ x \\sim N(m_0, s^2_0 + \\sigma^2_0)$\n",
    "    \n",
    "### Posterior predictive distribution:  \n",
    "Tương tự với trên, ta có:  \n",
    "x $\\sim$ N(posterior mean, posterior variance + data variance)\n"
   ]
  },
  {
   "cell_type": "markdown",
   "metadata": {},
   "source": [
    "---\n",
    "# Norm $\\propto$ norm $\\times$ norm (không biết variance của  data)\n",
    "\n",
    "Khi ta không biết variance thực sự của data, ta có thể:\n",
    "1. Chọn một con số thích hợp\n",
    "2. Tính variance của data rồi áp vào\n",
    "3. Model variance của data theo phân phối inverse gamma. **bài sẽ nói pp này**"
   ]
  },
  {
   "cell_type": "code",
   "execution_count": null,
   "metadata": {},
   "outputs": [],
   "source": []
  }
 ],
 "metadata": {
  "kernelspec": {
   "display_name": "Python 3",
   "language": "python",
   "name": "python3"
  },
  "language_info": {
   "codemirror_mode": {
    "name": "ipython",
    "version": 3
   },
   "file_extension": ".py",
   "mimetype": "text/x-python",
   "name": "python",
   "nbconvert_exporter": "python",
   "pygments_lexer": "ipython3",
   "version": "3.7.3"
  }
 },
 "nbformat": 4,
 "nbformat_minor": 4
}
