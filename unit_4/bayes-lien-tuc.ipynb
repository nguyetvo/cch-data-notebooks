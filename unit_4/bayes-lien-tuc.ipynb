{
 "cells": [
  {
   "cell_type": "markdown",
   "metadata": {},
   "source": [
    "# <center>BAYESIAN THEOREM</br><i>For Continuous Events</i></center>\n",
    "---\n",
    "# I. Nhắc lại Bayesian cho discrete events:\n",
    "\n",
    "$$ P(A_1|B) = \\frac{P(B|A_1)\\times P(A_1)}{P(B)} $$\n",
    "\n",
    "$$ \\begin{align}\n",
    "P(B) =& P(B|A_1)P(A_1) + P(B|A_2)P(A_2) + \\dots + P(B|A_n)P(A_n)\\\\\n",
    "\\text{or}\\: P(B) =& \\sum_{i=1}^{n}P(B|A_n)P(A_n)\n",
    "\\end{align}$$\n",
    "\n",
    "**Điều kiện:** \n",
    "- Các events $A_i$ mutually exclusive \n",
    "- $\\sum_{i=1}^{n}P(A_i)=1$"
   ]
  },
  {
   "cell_type": "markdown",
   "metadata": {},
   "source": [
    "---\n",
    "# II. Bayesian for continuous events:\n",
    "Cho một biến số theo một phân phối nào đó có PDF = $ f(\\theta)$, thì với điều kiện y thì $ f(\\theta | y) $ là:  \n",
    "\n",
    "$$ f(\\theta|y) = \\frac{f(y|\\theta)f(\\theta)}{f(y)} =  \\frac{f(y|\\theta)f(\\theta)}{\\int{f(y|\\theta)f(\\theta)d\\theta}}$$"
   ]
  },
  {
   "cell_type": "markdown",
   "metadata": {},
   "source": [
    "---\n",
    "# III. Một số quy ước Toán học:\n",
    "\n",
    "- Hàm Sum:  \n",
    "    - $ \\sum_{x=1}^n x_i = x_1 + x_2 + \\dots + x_n $\n",
    "- Hàm tích: (đọc là Pie)  \n",
    "    - $ \\Pi_{x=1}^n x_i = x_1\\cdot x_2\\dots x_n$\n",
    "    - Ví dụ: $ n! = \\Pi_{i=1}^n i $\n",
    "- Phép mũ:  \n",
    "    - $ a^x a^y = a^{x+y} \\quad (a^x)^y = a^{xy} $\n",
    "- Hàm exp:  \n",
    "    - $ \\exp(x) = e^x $\n",
    "    - $e^x$ luôn >0\n",
    "    - Ví dụ: $\\Pi_{x=1}^{5} e^x = \\exp(\\sum_{x=1}^{5} x) = e^{15} $\n",
    "- Hàm log:  \n",
    "    - Natural logarithm: $\\log_e(y) =\\log(y)$\n",
    "    - y phải luôn >0\n",
    "    - $\\log(x\\cdot y)=\\log(x) + \\log(y) \\quad log(\\frac{x}{y}) = \\log(x) - \\log(y)$  \n",
    "    - $\\log(x^b) = b\\log(x) \\quad \\log(1)=0$\n",
    "    - Hàm log(f(x)) là hàm cùng chiều với hàm f(x), Nghĩa là tim max(f(x)) tương đương tìm max(log(f(x))), điều này rất khi có lợi khi tìm đạo hàm của f(x) là tích, khi chuyển sang log(f(x)) là tổng.\n",
    "- Hàm argmax:  \n",
    "    - Max của f(x) là max(f(x))\n",
    "    - Khi đó giá trị x đó gọi là argmax(f(x))\n",
    "    - Ví dụ: \n",
    "        - $f(x) = \\exp(-x^2) $ => $ log(f(x))=-x^2$ max log(f(x))=0 khi x=0=argmax\n",
    "        - Vậy argmax f(x) = 0; max f(x) = 1"
   ]
  },
  {
   "cell_type": "code",
   "execution_count": null,
   "metadata": {},
   "outputs": [],
   "source": []
  }
 ],
 "metadata": {
  "kernelspec": {
   "display_name": "Python 3",
   "language": "python",
   "name": "python3"
  },
  "language_info": {
   "codemirror_mode": {
    "name": "ipython",
    "version": 3
   },
   "file_extension": ".py",
   "mimetype": "text/x-python",
   "name": "python",
   "nbconvert_exporter": "python",
   "pygments_lexer": "ipython3",
   "version": "3.7.6"
  }
 },
 "nbformat": 4,
 "nbformat_minor": 4
}
