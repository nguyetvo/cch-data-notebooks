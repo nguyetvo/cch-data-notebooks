{
 "cells": [
  {
   "cell_type": "markdown",
   "metadata": {},
   "source": [
    "# <center>Linear Regression</center>"
   ]
  },
  {
   "cell_type": "markdown",
   "metadata": {},
   "source": [
    "## Nhắc lại linear regression\n",
    "là một mô hình dự đoán giá trị từ một hoặc nhiều biến số.  \n",
    "$$ y = \\beta_0 + \\beta_1x_1 + .. +\\beta_nx_n + \\epsilon$$\n",
    "- $ \\beta_0$: intercept\n",
    "- $ \\beta_1..\\beta_n$: coefficients\n",
    "- $ x_0, x_1,..,x_n$: variables, features, regressors; $x_0 = 1$\n",
    "- $\\epsilon$ là bias của model, không can thiệp được\n",
    "\n",
    "Các intercept và coef được tìm ra bằng giảm thiểu tối đa sum of square error.\n",
    "$$ RSS = \\sum(y - y_{pred})^2 $$\n",
    "Phương pháp này gọi là Ordinary least square error."
   ]
  },
  {
   "cell_type": "markdown",
   "metadata": {},
   "source": [
    "### Trường hợp biết trước $\\sigma^2$ của coef\n",
    "Trong *Bayes*, chúng ta giả định $\\epsilon$ phân phối Normal, nên các $\\beta$ cũng phân phối Normal.  \n",
    "Ta dùng Jeffreys prior là $f(\\beta) \\propto 1$  \n",
    "\n",
    "Nếu ta chỉ có 1 variable, thì:\n",
    "$$ \\beta|y \\sim N\\left(\\frac{\\sum_{i=1}^n (x_i-\\overline{x})(y_i-\\overline{y})}{\\sum_{i=1}^n (x_i-\\overline{x})^2}, \\frac{\\sigma^2}{\\sum_{i=1}^n (x_i-\\overline{x})} \\right)$$\n",
    "\n",
    "Nếu ta có nhiều variables, thì dùng matrix:\n",
    "$$ \\beta|y \\sim N( (X^t X)^{-1}X^ty, (X^t X)^{-1}\\sigma^2) $$ "
   ]
  },
  {
   "cell_type": "markdown",
   "metadata": {},
   "source": [
    "### Trường hợp không biết $\\sigma^2$ của coef\n",
    "Ta sử dụng Jeffreys prior là $ f(\\beta, \\sigma^2) \\propto 1/\\sigma^2 $  với  \n",
    "$\\sigma^2 \\sim$ Inverse Gamma $ (\\frac{n-k-1}{2}, \\frac{n-k-1}{2}s^2) $\n",
    "\n",
    "Khi đó:  \n",
    "$ B|y \\sim t$ (dof, loc, scale)\n",
    "- dof = n-k-1\n",
    "- loc = $(X^t X)^{-1}X^ty$\n",
    "- scale = $(X^t X)^{-1}s^2$, $s^2 = \\sum_{i=1}^n (y_i-\\overline{y})/(n-k-1)$\n",
    "- n là số dòng data, k là số cột\n",
    "\n",
    "Trong trường hợp 1 variable, a có predictive distribution là t(dof, loc, scale) với giá trị mới là $x^*$:\n",
    "- dof = n-k-1 = n-2\n",
    "- loc = $\\frac{\\sum_{i=1}^n (x_i-\\overline{x})(y_i-\\overline{y})}{\\sum_{i=1}^n (x_i-\\overline{x})^2}$\n",
    "- scale = RSE $\\sqrt{1 + \\frac{1}{n} + \\frac{(x^* - \\overline{x})^2}{(n-1)s^2_x}}$, RSE = $\\sqrt{s^2} $\n",
    "- $s^2$ là mean square error, RSE là residual standard error "
   ]
  },
  {
   "cell_type": "markdown",
   "metadata": {},
   "source": [
    "---\n",
    "Data này được upload http://www.stat.ufl.edu/~winner/data/pgalpga2008.dat  \n",
    "bao gồm dữ liệu của những người chơi golf ở United States LPGA and PGA tours.  \n",
    "\n",
    "*LPGA*: The Ladies Professional Golf Association is an American organization for female professional golfers. \n",
    "\n",
    "- Distance là khoảng cách trung bình của golf bay khi đánh, đơn vị là yard.  \n",
    "- Accuracy là tỉ lệ golf rơi vào fairway, tương đương với độ chính xác. Fairway là nơi lý tưởng để golf rơi vào.  \n",
    "- Gender: \n",
    "    - 1 -> nữ (LPGA tours);  \n",
    "    - 2 -> nam (PGA tours)"
   ]
  },
  {
   "cell_type": "code",
   "execution_count": 1,
   "metadata": {},
   "outputs": [],
   "source": [
    "import pandas as pd\n",
    "import numpy as np\n",
    "import statsmodels.api as sm\n",
    "import matplotlib.pyplot as plt\n",
    "import seaborn as sns\n",
    "sns.set()"
   ]
  },
  {
   "cell_type": "code",
   "execution_count": 2,
   "metadata": {},
   "outputs": [],
   "source": [
    "df = pd.read_csv(\"http://www.stat.ufl.edu/~winner/data/pgalpga2008.dat\",\n",
    "                 header=None,\n",
    "                 delimiter=\"\\s+\",\n",
    "                 names=[\"distance\", \"accuracy\", \"gender\"])"
   ]
  },
  {
   "cell_type": "code",
   "execution_count": 3,
   "metadata": {},
   "outputs": [
    {
     "data": {
      "text/plain": [
       "(   distance  accuracy  gender\n",
       " 0     243.2      67.0       1\n",
       " 1     254.5      70.1       1\n",
       " 2     253.1      59.3       1\n",
       " 3     228.1      70.4       1\n",
       " 4     240.8      69.5       1,      distance  accuracy  gender\n",
       " 349     297.8      59.5       2\n",
       " 350     286.0      62.6       2\n",
       " 351     285.3      66.2       2\n",
       " 352     286.9      63.4       2\n",
       " 353     275.1      73.7       2)"
      ]
     },
     "execution_count": 3,
     "metadata": {},
     "output_type": "execute_result"
    }
   ],
   "source": [
    "df.head(), df.tail()"
   ]
  },
  {
   "cell_type": "code",
   "execution_count": 4,
   "metadata": {},
   "outputs": [
    {
     "data": {
      "text/html": [
       "<div>\n",
       "<style scoped>\n",
       "    .dataframe tbody tr th:only-of-type {\n",
       "        vertical-align: middle;\n",
       "    }\n",
       "\n",
       "    .dataframe tbody tr th {\n",
       "        vertical-align: top;\n",
       "    }\n",
       "\n",
       "    .dataframe thead th {\n",
       "        text-align: right;\n",
       "    }\n",
       "</style>\n",
       "<table border=\"1\" class=\"dataframe\">\n",
       "  <thead>\n",
       "    <tr style=\"text-align: right;\">\n",
       "      <th></th>\n",
       "      <th>distance</th>\n",
       "      <th>accuracy</th>\n",
       "      <th>gender</th>\n",
       "    </tr>\n",
       "  </thead>\n",
       "  <tbody>\n",
       "    <tr>\n",
       "      <th>count</th>\n",
       "      <td>354.000000</td>\n",
       "      <td>354.000000</td>\n",
       "      <td>354.000000</td>\n",
       "    </tr>\n",
       "    <tr>\n",
       "      <th>mean</th>\n",
       "      <td>269.511582</td>\n",
       "      <td>65.239266</td>\n",
       "      <td>1.556497</td>\n",
       "    </tr>\n",
       "    <tr>\n",
       "      <th>std</th>\n",
       "      <td>22.196027</td>\n",
       "      <td>5.973796</td>\n",
       "      <td>0.497501</td>\n",
       "    </tr>\n",
       "    <tr>\n",
       "      <th>min</th>\n",
       "      <td>224.800000</td>\n",
       "      <td>49.000000</td>\n",
       "      <td>1.000000</td>\n",
       "    </tr>\n",
       "    <tr>\n",
       "      <th>25%</th>\n",
       "      <td>247.675000</td>\n",
       "      <td>61.125000</td>\n",
       "      <td>1.000000</td>\n",
       "    </tr>\n",
       "    <tr>\n",
       "      <th>50%</th>\n",
       "      <td>276.450000</td>\n",
       "      <td>65.600000</td>\n",
       "      <td>2.000000</td>\n",
       "    </tr>\n",
       "    <tr>\n",
       "      <th>75%</th>\n",
       "      <td>287.700000</td>\n",
       "      <td>69.475000</td>\n",
       "      <td>2.000000</td>\n",
       "    </tr>\n",
       "    <tr>\n",
       "      <th>max</th>\n",
       "      <td>315.100000</td>\n",
       "      <td>80.400000</td>\n",
       "      <td>2.000000</td>\n",
       "    </tr>\n",
       "  </tbody>\n",
       "</table>\n",
       "</div>"
      ],
      "text/plain": [
       "         distance    accuracy      gender\n",
       "count  354.000000  354.000000  354.000000\n",
       "mean   269.511582   65.239266    1.556497\n",
       "std     22.196027    5.973796    0.497501\n",
       "min    224.800000   49.000000    1.000000\n",
       "25%    247.675000   61.125000    1.000000\n",
       "50%    276.450000   65.600000    2.000000\n",
       "75%    287.700000   69.475000    2.000000\n",
       "max    315.100000   80.400000    2.000000"
      ]
     },
     "execution_count": 4,
     "metadata": {},
     "output_type": "execute_result"
    }
   ],
   "source": [
    "df.describe()"
   ]
  },
  {
   "cell_type": "code",
   "execution_count": 5,
   "metadata": {},
   "outputs": [
    {
     "data": {
      "text/html": [
       "<div>\n",
       "<style scoped>\n",
       "    .dataframe tbody tr th:only-of-type {\n",
       "        vertical-align: middle;\n",
       "    }\n",
       "\n",
       "    .dataframe tbody tr th {\n",
       "        vertical-align: top;\n",
       "    }\n",
       "\n",
       "    .dataframe thead th {\n",
       "        text-align: right;\n",
       "    }\n",
       "</style>\n",
       "<table border=\"1\" class=\"dataframe\">\n",
       "  <thead>\n",
       "    <tr style=\"text-align: right;\">\n",
       "      <th></th>\n",
       "      <th>distance</th>\n",
       "      <th>accuracy</th>\n",
       "      <th>gender</th>\n",
       "    </tr>\n",
       "  </thead>\n",
       "  <tbody>\n",
       "    <tr>\n",
       "      <th>0</th>\n",
       "      <td>243.2</td>\n",
       "      <td>67.0</td>\n",
       "      <td>1</td>\n",
       "    </tr>\n",
       "    <tr>\n",
       "      <th>1</th>\n",
       "      <td>254.5</td>\n",
       "      <td>70.1</td>\n",
       "      <td>1</td>\n",
       "    </tr>\n",
       "    <tr>\n",
       "      <th>2</th>\n",
       "      <td>253.1</td>\n",
       "      <td>59.3</td>\n",
       "      <td>1</td>\n",
       "    </tr>\n",
       "    <tr>\n",
       "      <th>3</th>\n",
       "      <td>228.1</td>\n",
       "      <td>70.4</td>\n",
       "      <td>1</td>\n",
       "    </tr>\n",
       "    <tr>\n",
       "      <th>4</th>\n",
       "      <td>240.8</td>\n",
       "      <td>69.5</td>\n",
       "      <td>1</td>\n",
       "    </tr>\n",
       "  </tbody>\n",
       "</table>\n",
       "</div>"
      ],
      "text/plain": [
       "   distance  accuracy  gender\n",
       "0     243.2      67.0       1\n",
       "1     254.5      70.1       1\n",
       "2     253.1      59.3       1\n",
       "3     228.1      70.4       1\n",
       "4     240.8      69.5       1"
      ]
     },
     "execution_count": 5,
     "metadata": {},
     "output_type": "execute_result"
    }
   ],
   "source": [
    "#LPGA\n",
    "df1 = df[df['gender']==1]\n",
    "df1.head()"
   ]
  },
  {
   "cell_type": "code",
   "execution_count": 6,
   "metadata": {},
   "outputs": [
    {
     "data": {
      "text/html": [
       "<div>\n",
       "<style scoped>\n",
       "    .dataframe tbody tr th:only-of-type {\n",
       "        vertical-align: middle;\n",
       "    }\n",
       "\n",
       "    .dataframe tbody tr th {\n",
       "        vertical-align: top;\n",
       "    }\n",
       "\n",
       "    .dataframe thead th {\n",
       "        text-align: right;\n",
       "    }\n",
       "</style>\n",
       "<table border=\"1\" class=\"dataframe\">\n",
       "  <thead>\n",
       "    <tr style=\"text-align: right;\">\n",
       "      <th></th>\n",
       "      <th>distance</th>\n",
       "      <th>accuracy</th>\n",
       "      <th>gender</th>\n",
       "    </tr>\n",
       "  </thead>\n",
       "  <tbody>\n",
       "    <tr>\n",
       "      <th>157</th>\n",
       "      <td>290.3</td>\n",
       "      <td>59.5</td>\n",
       "      <td>2</td>\n",
       "    </tr>\n",
       "    <tr>\n",
       "      <th>158</th>\n",
       "      <td>302.1</td>\n",
       "      <td>54.7</td>\n",
       "      <td>2</td>\n",
       "    </tr>\n",
       "    <tr>\n",
       "      <th>159</th>\n",
       "      <td>287.1</td>\n",
       "      <td>62.4</td>\n",
       "      <td>2</td>\n",
       "    </tr>\n",
       "    <tr>\n",
       "      <th>160</th>\n",
       "      <td>282.7</td>\n",
       "      <td>65.4</td>\n",
       "      <td>2</td>\n",
       "    </tr>\n",
       "    <tr>\n",
       "      <th>161</th>\n",
       "      <td>299.1</td>\n",
       "      <td>52.8</td>\n",
       "      <td>2</td>\n",
       "    </tr>\n",
       "  </tbody>\n",
       "</table>\n",
       "</div>"
      ],
      "text/plain": [
       "     distance  accuracy  gender\n",
       "157     290.3      59.5       2\n",
       "158     302.1      54.7       2\n",
       "159     287.1      62.4       2\n",
       "160     282.7      65.4       2\n",
       "161     299.1      52.8       2"
      ]
     },
     "execution_count": 6,
     "metadata": {},
     "output_type": "execute_result"
    }
   ],
   "source": [
    "#PGA\n",
    "df2 = df[df['gender']==2]\n",
    "df2.head()"
   ]
  },
  {
   "cell_type": "code",
   "execution_count": 7,
   "metadata": {},
   "outputs": [
    {
     "data": {
      "image/png": "[encoded data removed]",
      "text/plain": [
       "<Figure size 720x360 with 2 Axes>"
      ]
     },
     "metadata": {},
     "output_type": "display_data"
    }
   ],
   "source": [
    "# scatterplot 2 data\n",
    "fig, ax = plt.subplots(1,2, figsize=(10,5), sharey=True)\n",
    "sns.scatterplot(df1['distance'], df1['accuracy'],ax=ax[0])\n",
    "sns.scatterplot(df2['distance'], df2['accuracy'],ax=ax[1])\n",
    "\n",
    "ax[0].set_title('LPGA')\n",
    "ax[1].set_title('PGA');"
   ]
  },
  {
   "cell_type": "markdown",
   "metadata": {},
   "source": [
    "=> Nhìn đồ thị ta thấy khoảng cách golf bay trung bình tương quan nghịch với độ chính xác (negatively correlated). Ai đánh xa hơn thì kém chính xác."
   ]
  },
  {
   "cell_type": "markdown",
   "metadata": {},
   "source": [
    "**Dùng linear regression để làm model dự đoán**  "
   ]
  },
  {
   "cell_type": "code",
   "execution_count": 8,
   "metadata": {},
   "outputs": [
    {
     "name": "stderr",
     "output_type": "stream",
     "text": [
      "/Volumes/DATA/anaconda3/envs/jupyter/lib/python3.7/site-packages/numpy/core/fromnumeric.py:2495: FutureWarning: Method .ptp is deprecated and will be removed in a future version. Use numpy.ptp instead.\n",
      "  return ptp(axis=axis, out=out, **kwargs)\n"
     ]
    },
    {
     "data": {
      "text/html": [
       "<table class=\"simpletable\">\n",
       "<tr>\n",
       "      <td></td>        <th>coef</th>     <th>std err</th>      <th>t</th>      <th>P>|t|</th>  <th>[0.025</th>    <th>0.975]</th>  \n",
       "</tr>\n",
       "<tr>\n",
       "  <th>const</th>    <td>  130.8933</td> <td>   10.928</td> <td>   11.978</td> <td> 0.000</td> <td>  109.307</td> <td>  152.480</td>\n",
       "</tr>\n",
       "<tr>\n",
       "  <th>distance</th> <td>   -0.2565</td> <td>    0.044</td> <td>   -5.797</td> <td> 0.000</td> <td>   -0.344</td> <td>   -0.169</td>\n",
       "</tr>\n",
       "</table>"
      ],
      "text/plain": [
       "<class 'statsmodels.iolib.table.SimpleTable'>"
      ]
     },
     "execution_count": 8,
     "metadata": {},
     "output_type": "execute_result"
    }
   ],
   "source": [
    "#FPGA\n",
    "model1 = sm.OLS(df1['accuracy'], sm.add_constant(df1['distance'])).fit()\n",
    "model1.summary().tables[1]"
   ]
  },
  {
   "cell_type": "code",
   "execution_count": 9,
   "metadata": {},
   "outputs": [
    {
     "data": {
      "text/html": [
       "<table class=\"simpletable\">\n",
       "<tr>\n",
       "      <td></td>        <th>coef</th>     <th>std err</th>      <th>t</th>      <th>P>|t|</th>  <th>[0.025</th>    <th>0.975]</th>  \n",
       "</tr>\n",
       "<tr>\n",
       "  <th>const</th>    <td>  174.9255</td> <td>   10.448</td> <td>   16.743</td> <td> 0.000</td> <td>  154.320</td> <td>  195.530</td>\n",
       "</tr>\n",
       "<tr>\n",
       "  <th>distance</th> <td>   -0.3879</td> <td>    0.036</td> <td>  -10.683</td> <td> 0.000</td> <td>   -0.459</td> <td>   -0.316</td>\n",
       "</tr>\n",
       "</table>"
      ],
      "text/plain": [
       "<class 'statsmodels.iolib.table.SimpleTable'>"
      ]
     },
     "execution_count": 9,
     "metadata": {},
     "output_type": "execute_result"
    }
   ],
   "source": [
    "#PGA\n",
    "model2 = sm.OLS(df2['accuracy'], sm.add_constant(df2['distance'])).fit()\n",
    "model2.summary().tables[1]"
   ]
  },
  {
   "cell_type": "code",
   "execution_count": 10,
   "metadata": {},
   "outputs": [
    {
     "data": {
      "image/png": "[encoded data removed]",
      "text/plain": [
       "<Figure size 720x360 with 2 Axes>"
      ]
     },
     "metadata": {},
     "output_type": "display_data"
    }
   ],
   "source": [
    "# Vẽ regression line và confidence_interval\n",
    "fig, ax = plt.subplots(1,2, figsize=(10,5), sharey=True)\n",
    "sns.regplot(df1['distance'], df1['accuracy'],ax=ax[0])\n",
    "sns.regplot(df2['distance'], df2['accuracy'],ax=ax[1])\n",
    "\n",
    "ax[0].set_title('LPGA')\n",
    "ax[1].set_title('PGA');"
   ]
  },
  {
   "cell_type": "code",
   "execution_count": 11,
   "metadata": {},
   "outputs": [
    {
     "data": {
      "text/html": [
       "<div>\n",
       "<style scoped>\n",
       "    .dataframe tbody tr th:only-of-type {\n",
       "        vertical-align: middle;\n",
       "    }\n",
       "\n",
       "    .dataframe tbody tr th {\n",
       "        vertical-align: top;\n",
       "    }\n",
       "\n",
       "    .dataframe thead th {\n",
       "        text-align: right;\n",
       "    }\n",
       "</style>\n",
       "<table border=\"1\" class=\"dataframe\">\n",
       "  <thead>\n",
       "    <tr style=\"text-align: right;\">\n",
       "      <th></th>\n",
       "      <th>mean</th>\n",
       "      <th>mean_se</th>\n",
       "      <th>mean_ci_lower</th>\n",
       "      <th>mean_ci_upper</th>\n",
       "      <th>obs_ci_lower</th>\n",
       "      <th>obs_ci_upper</th>\n",
       "    </tr>\n",
       "  </thead>\n",
       "  <tbody>\n",
       "    <tr>\n",
       "      <th>0</th>\n",
       "      <td>64.205732</td>\n",
       "      <td>0.718569</td>\n",
       "      <td>62.78628</td>\n",
       "      <td>65.625184</td>\n",
       "      <td>53.745277</td>\n",
       "      <td>74.666188</td>\n",
       "    </tr>\n",
       "  </tbody>\n",
       "</table>\n",
       "</div>"
      ],
      "text/plain": [
       "        mean   mean_se  mean_ci_lower  mean_ci_upper  obs_ci_lower  \\\n",
       "0  64.205732  0.718569       62.78628      65.625184     53.745277   \n",
       "\n",
       "   obs_ci_upper  \n",
       "0     74.666188  "
      ]
     },
     "execution_count": 11,
     "metadata": {},
     "output_type": "execute_result"
    }
   ],
   "source": [
    "# predict model1 with distance =260\n",
    "model1.get_prediction([1,260]).summary_frame()"
   ]
  },
  {
   "cell_type": "markdown",
   "metadata": {},
   "source": [
    "**Với distance=260, ta dự đoán accuracy=64.2 với khoảng tin cậy 95% dự đoán (53.7, 74.5).**  \n",
    "Nếu ta sampling nhiều lần với distance=260 thì trung bình của data sẽ là 64.2 với khoảng tin cậy 95% (62.8, 65.6)"
   ]
  },
  {
   "cell_type": "code",
   "execution_count": 14,
   "metadata": {},
   "outputs": [
    {
     "data": {
      "text/html": [
       "<div>\n",
       "<style scoped>\n",
       "    .dataframe tbody tr th:only-of-type {\n",
       "        vertical-align: middle;\n",
       "    }\n",
       "\n",
       "    .dataframe tbody tr th {\n",
       "        vertical-align: top;\n",
       "    }\n",
       "\n",
       "    .dataframe thead th {\n",
       "        text-align: right;\n",
       "    }\n",
       "</style>\n",
       "<table border=\"1\" class=\"dataframe\">\n",
       "  <thead>\n",
       "    <tr style=\"text-align: right;\">\n",
       "      <th></th>\n",
       "      <th>distance</th>\n",
       "      <th>accuracy</th>\n",
       "      <th>gender</th>\n",
       "    </tr>\n",
       "  </thead>\n",
       "  <tbody>\n",
       "    <tr>\n",
       "      <th>0</th>\n",
       "      <td>243.2</td>\n",
       "      <td>67.0</td>\n",
       "      <td>0</td>\n",
       "    </tr>\n",
       "    <tr>\n",
       "      <th>1</th>\n",
       "      <td>254.5</td>\n",
       "      <td>70.1</td>\n",
       "      <td>0</td>\n",
       "    </tr>\n",
       "    <tr>\n",
       "      <th>2</th>\n",
       "      <td>253.1</td>\n",
       "      <td>59.3</td>\n",
       "      <td>0</td>\n",
       "    </tr>\n",
       "    <tr>\n",
       "      <th>3</th>\n",
       "      <td>228.1</td>\n",
       "      <td>70.4</td>\n",
       "      <td>0</td>\n",
       "    </tr>\n",
       "    <tr>\n",
       "      <th>4</th>\n",
       "      <td>240.8</td>\n",
       "      <td>69.5</td>\n",
       "      <td>0</td>\n",
       "    </tr>\n",
       "    <tr>\n",
       "      <th>...</th>\n",
       "      <td>...</td>\n",
       "      <td>...</td>\n",
       "      <td>...</td>\n",
       "    </tr>\n",
       "    <tr>\n",
       "      <th>349</th>\n",
       "      <td>297.8</td>\n",
       "      <td>59.5</td>\n",
       "      <td>1</td>\n",
       "    </tr>\n",
       "    <tr>\n",
       "      <th>350</th>\n",
       "      <td>286.0</td>\n",
       "      <td>62.6</td>\n",
       "      <td>1</td>\n",
       "    </tr>\n",
       "    <tr>\n",
       "      <th>351</th>\n",
       "      <td>285.3</td>\n",
       "      <td>66.2</td>\n",
       "      <td>1</td>\n",
       "    </tr>\n",
       "    <tr>\n",
       "      <th>352</th>\n",
       "      <td>286.9</td>\n",
       "      <td>63.4</td>\n",
       "      <td>1</td>\n",
       "    </tr>\n",
       "    <tr>\n",
       "      <th>353</th>\n",
       "      <td>275.1</td>\n",
       "      <td>73.7</td>\n",
       "      <td>1</td>\n",
       "    </tr>\n",
       "  </tbody>\n",
       "</table>\n",
       "<p>354 rows × 3 columns</p>\n",
       "</div>"
      ],
      "text/plain": [
       "     distance  accuracy  gender\n",
       "0       243.2      67.0       0\n",
       "1       254.5      70.1       0\n",
       "2       253.1      59.3       0\n",
       "3       228.1      70.4       0\n",
       "4       240.8      69.5       0\n",
       "..        ...       ...     ...\n",
       "349     297.8      59.5       1\n",
       "350     286.0      62.6       1\n",
       "351     285.3      66.2       1\n",
       "352     286.9      63.4       1\n",
       "353     275.1      73.7       1\n",
       "\n",
       "[354 rows x 3 columns]"
      ]
     },
     "execution_count": 14,
     "metadata": {},
     "output_type": "execute_result"
    }
   ],
   "source": [
    "df.loc[df['gender']==1, \"gender\"]=0\n",
    "df.loc[df['gender']==2, \"gender\"]=1\n",
    "df"
   ]
  },
  {
   "cell_type": "markdown",
   "metadata": {},
   "source": [
    "## Multivariate model"
   ]
  },
  {
   "cell_type": "code",
   "execution_count": 18,
   "metadata": {},
   "outputs": [
    {
     "data": {
      "text/html": [
       "<table class=\"simpletable\">\n",
       "<tr>\n",
       "      <td></td>        <th>coef</th>     <th>std err</th>      <th>t</th>      <th>P>|t|</th>  <th>[0.025</th>    <th>0.975]</th>  \n",
       "</tr>\n",
       "<tr>\n",
       "  <th>const</th>    <td>  147.2689</td> <td>    7.035</td> <td>   20.934</td> <td> 0.000</td> <td>  133.433</td> <td>  161.105</td>\n",
       "</tr>\n",
       "<tr>\n",
       "  <th>distance</th> <td>   -0.3228</td> <td>    0.028</td> <td>  -11.343</td> <td> 0.000</td> <td>   -0.379</td> <td>   -0.267</td>\n",
       "</tr>\n",
       "<tr>\n",
       "  <th>gender</th>   <td>    8.9489</td> <td>    1.270</td> <td>    7.047</td> <td> 0.000</td> <td>    6.451</td> <td>   11.446</td>\n",
       "</tr>\n",
       "</table>"
      ],
      "text/plain": [
       "<class 'statsmodels.iolib.table.SimpleTable'>"
      ]
     },
     "execution_count": 18,
     "metadata": {},
     "output_type": "execute_result"
    }
   ],
   "source": [
    "model3 = sm.OLS(df['accuracy'], sm.add_constant(df[['distance','gender']])).fit()\n",
    "model3.summary().tables[1]"
   ]
  },
  {
   "cell_type": "code",
   "execution_count": 31,
   "metadata": {},
   "outputs": [
    {
     "data": {
      "image/png": "[encoded data removed]",
      "text/plain": [
       "<Figure size 720x360 with 1 Axes>"
      ]
     },
     "metadata": {},
     "output_type": "display_data"
    }
   ],
   "source": [
    "# residual plot\n",
    "plt.figure(figsize=(10,5))\n",
    "sns.residplot(x=model3.fittedvalues, y=df['accuracy'], lowess=True)\n",
    "plt.title('Residuals vs Fitted')\n",
    "plt.xlabel('Fitted values')\n",
    "plt.ylabel('Residuals');\n",
    "\n",
    "# Xem ra residual phân tán rải rác random, có 1 outlier cần kiểm tra"
   ]
  }
 ],
 "metadata": {
  "kernelspec": {
   "display_name": "Python 3",
   "language": "python",
   "name": "python3"
  },
  "language_info": {
   "codemirror_mode": {
    "name": "ipython",
    "version": 3
   },
   "file_extension": ".py",
   "mimetype": "text/x-python",
   "name": "python",
   "nbconvert_exporter": "python",
   "pygments_lexer": "ipython3",
   "version": "3.7.6"
  }
 },
 "nbformat": 4,
 "nbformat_minor": 4
}
