{
 "cells": [
  {
   "cell_type": "markdown",
   "metadata": {},
   "source": [
    "# <center><b><i>GIT & GITHUB CƠ BẢN</i></b></center>"
   ]
  },
  {
   "cell_type": "markdown",
   "metadata": {},
   "source": [
    "**Git** là phần mềm quản lý version dự án. Thao tác chủ yếu trên cmd/terminal.  \n",
    "**Github** là dịch vụ giống như googledrive, được xây dựng trên nền tảng Git, có giao diện sử dụng nên thân thiện với đa số người dùng.  \n",
    "[**Git Document**](https://git-scm.com/docs)"
   ]
  },
  {
   "cell_type": "markdown",
   "metadata": {},
   "source": [
    "1. [Đăng ký tài khoản Github](#1.-%C4%90%C4%83ng-k%C3%BD-t%C3%A0i-kho%E1%BA%A3n-Github)\n",
    "2. [Download Git và install](#2.-Download-Git-v%C3%A0-install)\n",
    "3. [Cài đặt sơ bộ cho Git](#3.-C%C3%A0i-%C4%91%E1%BA%B7t-s%C6%A1-b%E1%BB%99-cho-Git)\n",
    "4. [Tạo Project](#4.-T%E1%BA%A1o-project)\n",
    "    - [..local trên máy và đẩy lên github](#..local-tr%C3%AAn-m%C3%A1y-v%C3%A0-%C4%91%E1%BA%A9y-l%C3%AAn-Github)\n",
    "    - [..hoặc tải repo từ Github xuống](#..ho%E1%BA%B7c-t%E1%BA%A3i-repo-t%E1%BB%AB-Github-xu%E1%BB%91ng)\n",
    "5. [Git quản lý version bằng các commits](#5.-Git-qu%E1%BA%A3n-l%C3%BD-version-b%E1%BA%B1ng-c%C3%A1c-commits)\n",
    "    - [Thao tác chính](#Thao-t%C3%A1c-ch%C3%ADnh)\n",
    "        - git status\n",
    "        - git add\n",
    "        - git commit\n",
    "    - [Thao tác khác](#Thao-t%C3%A1c-kh%C3%A1c)\n",
    "        - git rm\n",
    "        - git mv\n",
    "        - git restore\n",
    "        - git reset\n",
    "        - git diff\n",
    "        - git log\n",
    "6. [Làm việc với remote](#6.-L%C3%A0m-vi%E1%BB%87c-v%E1%BB%9Bi-remote)\n",
    "    - [Quản lý các remote](#Qu%E1%BA%A3n-l%C3%BD-c%C3%A1c-remote)\n",
    "    - [Push and Pull](#Push-and-Pull)\n",
    "7. [Hệ thống tag](#7.-H%E1%BB%87-th%E1%BB%91ng-tag)\n",
    "8. [Hệ thống branch](#8.-H%E1%BB%87-th%E1%BB%91ng-branch)\n",
    "    - [Branch cơ bản](#Branch-c%C6%A1-b%E1%BA%A3n)\n",
    "    - [Merge branch](#Merge-branch)\n",
    "    - [Branch trên remote](#Branch-tr%C3%AAn-remote)"
   ]
  },
  {
   "cell_type": "markdown",
   "metadata": {},
   "source": [
    "---\n",
    "# 1. Đăng ký tài khoản [Github](https://github.com)\n",
    "Có sẵn:\n",
    "* 500MB dung lượng\n",
    "* 3 người dùng trong 1 repo tư  \n",
    "\n",
    "Tạo Repository: Giống như tạo 1 folder, là nơi lưu trữ các file của mình"
   ]
  },
  {
   "cell_type": "markdown",
   "metadata": {},
   "source": [
    "---\n",
    "# 2. Download [Git](https://git-scm.com/downloads) và install"
   ]
  },
  {
   "cell_type": "markdown",
   "metadata": {},
   "source": [
    "Mọi thao tác git đều được thực hiện qua cmd/terminal  \n",
    "Windows: Start Menu -> Run -> gõ \"cmd\"  \n",
    "MacOS: Terminal.app  "
   ]
  },
  {
   "cell_type": "markdown",
   "metadata": {},
   "source": [
    "Kiểm tra git đã cài đặt thành công?  \n",
    "` $ git --version`"
   ]
  },
  {
   "cell_type": "markdown",
   "metadata": {},
   "source": [
    "---\n",
    "# 3. Cài đặt sơ bộ cho Git\n",
    "`$ git config --global user.name vuongkienthanh`  \n",
    "`$ git config --global user.email thanhxyz@gmail.com`"
   ]
  },
  {
   "cell_type": "markdown",
   "metadata": {},
   "source": [
    "xem lại config\n",
    "\n",
    "`$ git config --global user.name`  \n",
    "-> vuongkienthanh  \n",
    "`$ git config --global user.email`  \n",
    "-> thanhxyz@gmail.com"
   ]
  },
  {
   "cell_type": "markdown",
   "metadata": {},
   "source": [
    "---\n",
    "# 4. Tạo project \n",
    "## ..local trên máy và đẩy lên Github  \n",
    "Trong cmd/terminal  \n",
    "`$ cd path\\to\\project\\folder`  \n",
    "`$ git init`  \n",
    "... *Thêm vài commits* ...  \n",
    "`$ git remote add origin https://github.com/user/repo`  \n",
    "`$ git push -u origin`"
   ]
  },
  {
   "cell_type": "markdown",
   "metadata": {},
   "source": [
    "## ..hoặc tải repo từ Github xuống  \n",
    "` $ cd path\\to\\put\\project\\folder`  \n",
    "` $ git clone https://github.com/user/repo`  \n",
    "git clone sẽ đặt remote là origin, branch là master, upstream là origin, và pull toàn bộ repo"
   ]
  },
  {
   "cell_type": "markdown",
   "metadata": {},
   "source": [
    "---\n",
    "# 5. Git quản lý version bằng các commits  \n",
    "Commit là dấu chỉ các thời điểm mình lưu các thay đổi, được thể hiện qua checksum.  \n",
    "Commit-checksum có thể được đại diện bằng 8 ký tự đầu.  \n",
    "Workflow: trong folder project có 3 chỗ được duy trì bởi Git.  \n",
    "* `Working`: File thực tế đang xây dựng  \n",
    "* `Stage` hoặc `Index`: Nơi đặt các thay đổi sắp xảy ra  \n",
    "* `HEAD`: dấu chỉ commit hiện tại"
   ]
  },
  {
   "cell_type": "markdown",
   "metadata": {},
   "source": [
    "## Thao tác chính\n",
    "1. Trong quá trình làm nên thường xuyên kiểm tra tình trạng 3 chỗ này  \n",
    "`$ git status`\n",
    "\n",
    "2. Staging các files  \n",
    "`$ git add new-file.txt`  \n",
    "`$ git add modified-file.txt`  \n",
    "`$ git add --all` để thêm tất cả các thay đổi đối với các file đã tracked\n",
    "\n",
    "3. Tạo commit sau khi staged  \n",
    "`$ git commit -m \"any message\"` (message là bắt buộc)"
   ]
  },
  {
   "cell_type": "markdown",
   "metadata": {},
   "source": [
    "## Thao tác khác\n",
    "Lưu ý: <font color=\"red\">[WARNING]</font>=> Cẩn thận vì có thể mất những chỉnh sửa mới nhất .\n",
    "\n",
    "1. Unstage các file đã staged  \n",
    "`$ git reset new-file.txt`\n",
    "\n",
    "2. Unmodify các file theo commit tại vị trí HEAD <font color=\"red\">[WARNING]</font>  \n",
    "`$ git restore modified-file.txt`\n",
    "\n",
    "3. Untrack các file đang tracked  \n",
    "`$ git rm --cached tracked-file.txt`\n",
    "\n",
    "4. Xoá file <font color=\"red\">[WARNING]</font>  \n",
    "Nếu chỉ xoá tay thì file vẫn còn đang tracked, và vẫn phải dùng git rm  \n",
    "`$ git rm tracked-file.txt`\n",
    "\n",
    "5. Đổi tên hoặc di chuyển file  \n",
    "`$ git mv old-name.txt new-name.txt`  \n",
    "`$ git mv old-name.txt ... new-folder\\`\n",
    "\n",
    "6. Thay đổi vị trí HEAD theo commit  \n",
    "`$ git reset [<commit-checksum>]`\n",
    "\n",
    "7. Quay về trạng thái theo commit <font color=\"red\">[WARNING]</font>  \n",
    "`$ git reset --hard [<commit-checksum>]`\n",
    "\n",
    "8. Để xem sự khác nhau giữa file được chỉnh sửa với commit theo vị trí HEAD  \n",
    "`$ git diff modified.txt`\n",
    "\n",
    "9. Xem lại các commits  \n",
    "`$ git log`  \n",
    "`$ git log --oneline`  \n",
    "gõ `q` khi muốn thoát log"
   ]
  },
  {
   "cell_type": "markdown",
   "metadata": {},
   "source": [
    "---\n",
    "# 6. Làm việc với remote"
   ]
  },
  {
   "cell_type": "markdown",
   "metadata": {},
   "source": [
    "## Quản lý các remote\n",
    "remote hay repository được lưu trên các server như Github\n",
    "- Liệt kê các remote  \n",
    "`$ git remote`  \n",
    "- Thêm remote  \n",
    "`$ git remote add <name> <url>`  \n",
    "`name` trong lần đầu tiên thường là origin\n",
    "- Đổi tên remote  \n",
    "`$ git remote rename <old> <new>`  \n",
    "- Xóa remote  \n",
    "`$ git remote remove <name>`"
   ]
  },
  {
   "cell_type": "markdown",
   "metadata": {},
   "source": [
    "## Push and Pull\n",
    "- Tải về nhưng không merge  \n",
    "`$ git fetch [<remote-name>] [<branch-name>]`  \n",
    "- Tải về và merge luôn  \n",
    "`$ git pull [<remote-name>] [<branch-name>]` \n",
    "- Up lên remote  \n",
    "`$ git push [<remote-name>] [<branch-name>]`  \n",
    "\n",
    "Với git push -u remote-name branch-name, remote đó sẽ là upstream, nghĩa là về sau không cần gõ remote name khi dùng git push, git pull."
   ]
  },
  {
   "cell_type": "markdown",
   "metadata": {},
   "source": [
    "---\n",
    "# 7. Hệ thống tag\n",
    "- Liệt kê tags  \n",
    "`$ git tag`  \n",
    "`$ git tag -l <regex>`  \n",
    "- Thêm tag  \n",
    "`$ git tag <tag-name> [<commit-checksum>]`  \n",
    "- Thêm annotated tag, dành cho các version lớn  \n",
    "`$ git tag -a <tag-name> -m <message>`\n",
    "- Xem commit theo tag  \n",
    "`$ git show <tag-name>`  \n",
    "- Push bình thường không kèm tags, nếu muốn thì dùng  \n",
    "`$ git push <remote-name> <tag-name>`  \n",
    "hoặc  \n",
    "`$ git push <remote-name> --tags`  \n",
    "để push tất cả tags  "
   ]
  },
  {
   "cell_type": "markdown",
   "metadata": {},
   "source": [
    "---\n",
    "# 8. Hệ thống branch"
   ]
  },
  {
   "cell_type": "markdown",
   "metadata": {},
   "source": [
    "## Branch cơ bản\n",
    "- Liệt kê các branches  \n",
    "`$ git branch`  \n",
    "- Tạo branch mới  \n",
    "`$ git branch <branch-name>`  \n",
    "- Xem HEAD đang ở đâu  \n",
    "`$ git log --oneline --decorate`  \n",
    "- Đổi branch khác  \n",
    "`$ git checkout <branch-name>` <font color=\"red\">[WARNING]</font>  \n",
    "- Text-based graph để xem lại các branches  \n",
    "`$ git log --oneline --graph`"
   ]
  },
  {
   "cell_type": "markdown",
   "metadata": {},
   "source": [
    "## Merge branch\n",
    "- Merge branch-name với HEAD  \n",
    "`$ git checkout <to-HEAD-branch>`  \n",
    "`$ git merge <branch-name>`  \n",
    "- Rename branch  \n",
    "`$ git branch -m <old> <new>`  \n",
    "- Delete branch  \n",
    "`$ git branch -d <branch-name>`  \n",
    "- Khi git merge thất bại, gõ  \n",
    "`$ git status` để xem file nào bị conflicted  \n",
    "- Trong file bị conflicted sẽ có đoạn conflicted bị marked  \n",
    "><<<<<<< HEAD:index.html\n",
    "><div id=\"footer\">contact : email.support@github.com</div>\n",
    ">=======\n",
    "><div id=\"footer\">\n",
    ">please contact us at support@github.com\n",
    "></div>\n",
    ">>>>>>>>iss53:index.html  \n",
    "- Trong Git có sẵn một số tools để merge  \n",
    "`$ git mergetool`  \n",
    "- Sau khi giải quyết conflict xong  \n",
    "`$ git status`  \n",
    "`$ git commit`  \n",
    "- Để xem các branches đã merge vào HEAD  \n",
    "`$ git branch --merged`  \n",
    "- Để xem các branches chưa merge vào HEAD  \n",
    "`$ git branch --no-merged`"
   ]
  },
  {
   "cell_type": "markdown",
   "metadata": {},
   "source": [
    "## Branch trên remote\n",
    "Branch trên remote có dạng: remote/branch.  \n",
    "Ví dụ: master tại local sẽ khác với origin/master"
   ]
  },
  {
   "cell_type": "markdown",
   "metadata": {},
   "source": [
    "- Tạo branch trên remote  \n",
    "`$ git push <remote> <branch>`  \n",
    "- Tạo local và track 1 branch trên remote  \n",
    "`$ git remote --track <remote>/<branch>`  \n",
    "- Track branch trên remote  \n",
    "`$ git branch -u <remote>/<branch>`  \n",
    "- Xóa branch trên remote  \n",
    "`$ git push <remote> --delete <branch>`"
   ]
  }
 ],
 "metadata": {
  "kernelspec": {
   "display_name": "Python 3",
   "language": "python",
   "name": "python3"
  },
  "language_info": {
   "codemirror_mode": {
    "name": "ipython",
    "version": 3
   },
   "file_extension": ".py",
   "mimetype": "text/x-python",
   "name": "python",
   "nbconvert_exporter": "python",
   "pygments_lexer": "ipython3",
   "version": "3.7.6"
  }
 },
 "nbformat": 4,
 "nbformat_minor": 4
}
