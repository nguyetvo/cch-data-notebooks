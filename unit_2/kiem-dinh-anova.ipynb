{
 "cells": [
  {
   "cell_type": "markdown",
   "metadata": {},
   "source": [
    "# <center>KIỂM ĐỊNH ANOVA</center>\n",
    "\n",
    "**ANOVA (Analysis of Variance)** có thể xem như là t-test mở rộng, nó được dùng để kiểm tra trung bình của nhiều hơn 2 nhóm có bằng nhau không?\n",
    "\n",
    "$ H_0: \\mu_1 = \\mu_2 = ... = \\mu_k $  \n",
    "$ H_1: $ Các $\\mu$ không bằng nhau  \n",
    "k là số nhóm"
   ]
  },
  {
   "cell_type": "markdown",
   "metadata": {},
   "source": [
    "# Điều kiện:\n",
    "1. Normality: các nhóm phải có phân bố normal.\n",
    "2. Homogeneity: các nhóm phải có variance như nhau.\n",
    "3. Các nhóm phải độc lập với nhau\n",
    "\n",
    "Khi các điều kiện trên không thoả, thì ta dùng **Kruskal-Wallis H-test or Welch’s ANOVA.**\n",
    "\n",
    "Kết quả của ANOVA là dựa trên f distribution với 2 độ tự do df1=k-1, df2=n-k."
   ]
  },
  {
   "cell_type": "markdown",
   "metadata": {},
   "source": [
    "# Công thức của ANOVA là dựa trên mô hình linear regresion.\n",
    "\n",
    "f-statistics $ = \\frac{\\text{(TSS-RSS)/df1}}{\\text{RSS/df2}} $  \n",
    "Trong đó:  \n",
    "- TSS: total sum of square = $ \\sum (y-\\overline{y})^2 $\n",
    "- RSS: residual sum of square = $ \\sum (y-\\hat{y})^2 $\n",
    "- df1, df2: độ tự do của phân phối f, df1=k-1, df2=n-k\n",
    "- n là số data, k là số nhóm"
   ]
  },
  {
   "cell_type": "markdown",
   "metadata": {},
   "source": [
    "# Chỉ số eta-square với omega-square để ước tính hiệu quả của nghiên cứu với thực tế\n",
    "eta-squared tương đương với $R^2$ trong linear regression, tức là giải thích variance của model so với variance của data.\n",
    "\n",
    "$\\eta^2 = R^2 = \\frac{\\text{TSS - RSS}}{\\text{TSS}} = 1 - \\frac{\\text{RSS}}{\\text{TSS}}$\n",
    "\n",
    "Omega-squared là chỉ số tốt hơn eta-square vì nó không bias\n",
    "\n",
    "<font size=\"+1\">$ \\omega^2 = \\frac{\\text{(TSS - RSS)} - \\frac{\\text{df1}}{\\text{df2}} RSS   }{ \\text{TSS} + \\frac{1}{\\text{df2}}\\text{RSS} }$ </font>\n",
    "\n",
    "Diễn giải omega-squared:\n",
    "- giá trị từ -1 -> +1\n",
    "- khi f-stat < 1 thì omega-squared âm\n",
    "- khi omega-squared = 0 thì model không giải thích được data"
   ]
  },
  {
   "cell_type": "markdown",
   "metadata": {},
   "source": [
    "# Kiểm tra điều kiện ANOVA bằng tests\n",
    "Khi tính ANOVA thông qua linear regression thì các điều kiện lên data được áp dụng trên residual\n",
    "\n",
    "1. Levene's test để kiểm tra *homogeneity of variance*\n",
    "2. Shapiro's test để kiểm tra *normality*\n",
    "\n",
    "# Post-hoc test\n",
    "Kết quả anova cho phép ta nói biến số có hoặc không có liên quan outcome.  Nó không so sánh được giữa 2 nhóm trong đó với nhau. Do đó, ta cần post-hoc test.  \n",
    "\n",
    "1. Bonferroni Correction Post-hoc Comparison  \n",
    "Với f-stats, ta đặt mức có ý nghĩa là $\\alpha$ là 0.05. Khi dùng Bonferroni, thì ta lấy $\\alpha$ chia cho số lần so sánh là ra mức có ý nghĩa của t-test từng cặp nhóm.  \n",
    "2. Tukey’s HSD Post-hoc comparison  \n",
    "Tương tự như Bonferroni, tukey kiểm soát alpha chung của ANOVA = 0.05 bằng phương pháp khác, sau đó tính t-test sự khác nhau của từng cặp nhóm."
   ]
  },
  {
   "cell_type": "markdown",
   "metadata": {},
   "source": [
    "---\n",
    "# Ví dụ từ https://pythonfordatascience.org/anova-python/"
   ]
  },
  {
   "cell_type": "markdown",
   "metadata": {},
   "source": [
    "This is made up data that is measuring the effects of different doses of a clinical drug, Difficile, on libido. It contains 2 columns of interest, “dose” and “libido”. Dose contains information on the dosing, “placebo”, “low”, and “high”, and libido is a measure of low-high libido on a 7 point Likert scale with 7 being the highest and 1 being the lowest. "
   ]
  },
  {
   "cell_type": "code",
   "execution_count": 1,
   "metadata": {},
   "outputs": [],
   "source": [
    "import pandas as pd\n",
    "import scipy.stats as st\n",
    "import statsmodels.api as sm\n",
    "from statsmodels.formula.api import ols\n",
    "import numpy as np"
   ]
  },
  {
   "cell_type": "code",
   "execution_count": 2,
   "metadata": {},
   "outputs": [
    {
     "data": {
      "text/html": [
       "<div>\n",
       "<style scoped>\n",
       "    .dataframe tbody tr th:only-of-type {\n",
       "        vertical-align: middle;\n",
       "    }\n",
       "\n",
       "    .dataframe tbody tr th {\n",
       "        vertical-align: top;\n",
       "    }\n",
       "\n",
       "    .dataframe thead th {\n",
       "        text-align: right;\n",
       "    }\n",
       "</style>\n",
       "<table border=\"1\" class=\"dataframe\">\n",
       "  <thead>\n",
       "    <tr style=\"text-align: right;\">\n",
       "      <th></th>\n",
       "      <th>dose</th>\n",
       "      <th>libido</th>\n",
       "    </tr>\n",
       "  </thead>\n",
       "  <tbody>\n",
       "    <tr>\n",
       "      <th>0</th>\n",
       "      <td>placebo</td>\n",
       "      <td>3</td>\n",
       "    </tr>\n",
       "    <tr>\n",
       "      <th>1</th>\n",
       "      <td>placebo</td>\n",
       "      <td>2</td>\n",
       "    </tr>\n",
       "    <tr>\n",
       "      <th>2</th>\n",
       "      <td>placebo</td>\n",
       "      <td>1</td>\n",
       "    </tr>\n",
       "    <tr>\n",
       "      <th>3</th>\n",
       "      <td>placebo</td>\n",
       "      <td>1</td>\n",
       "    </tr>\n",
       "    <tr>\n",
       "      <th>4</th>\n",
       "      <td>placebo</td>\n",
       "      <td>4</td>\n",
       "    </tr>\n",
       "  </tbody>\n",
       "</table>\n",
       "</div>"
      ],
      "text/plain": [
       "      dose  libido\n",
       "0  placebo       3\n",
       "1  placebo       2\n",
       "2  placebo       1\n",
       "3  placebo       1\n",
       "4  placebo       4"
      ]
     },
     "execution_count": 2,
     "metadata": {},
     "output_type": "execute_result"
    }
   ],
   "source": [
    "df = pd.read_csv(\"https://raw.githubusercontent.com/Opensourcefordatascience/Data-sets/master/difficile.csv\")\n",
    "df.drop('person', axis= 1, inplace= True)\n",
    "\n",
    "# Recoding value from numeric to string\n",
    "df['dose'].replace({1: 'placebo', 2: 'low', 3: 'high'}, inplace= True)\n",
    "\n",
    "df.head()"
   ]
  },
  {
   "cell_type": "code",
   "execution_count": 21,
   "metadata": {},
   "outputs": [
    {
     "data": {
      "text/html": [
       "<div>\n",
       "<style scoped>\n",
       "    .dataframe tbody tr th:only-of-type {\n",
       "        vertical-align: middle;\n",
       "    }\n",
       "\n",
       "    .dataframe tbody tr th {\n",
       "        vertical-align: top;\n",
       "    }\n",
       "\n",
       "    .dataframe thead th {\n",
       "        text-align: right;\n",
       "    }\n",
       "</style>\n",
       "<table border=\"1\" class=\"dataframe\">\n",
       "  <thead>\n",
       "    <tr style=\"text-align: right;\">\n",
       "      <th></th>\n",
       "      <th>n</th>\n",
       "      <th>mean</th>\n",
       "      <th>std</th>\n",
       "      <th>95% conf interval</th>\n",
       "    </tr>\n",
       "  </thead>\n",
       "  <tbody>\n",
       "    <tr>\n",
       "      <th>libido</th>\n",
       "      <td>15</td>\n",
       "      <td>3.466667</td>\n",
       "      <td>1.76743</td>\n",
       "      <td>[2.488, 4.445]</td>\n",
       "    </tr>\n",
       "  </tbody>\n",
       "</table>\n",
       "</div>"
      ],
      "text/plain": [
       "         n      mean      std 95% conf interval\n",
       "libido  15  3.466667  1.76743    [2.488, 4.445]"
      ]
     },
     "execution_count": 21,
     "metadata": {},
     "output_type": "execute_result"
    }
   ],
   "source": [
    "# Inference\n",
    "# n=15 nên dùng t statistic\n",
    "def descriptive(series):\n",
    "    r = st.t(len(series)-1).ppf(0.975)*series.std()/np.sqrt(len(series))\n",
    "    return pd.DataFrame([[len(series),series.mean(), series.std(), np.round((series.mean()-r, series.mean()+r),3)]],\n",
    "                        columns=['n','mean','std','95% conf interval'],\n",
    "                        index=[series.name])\n",
    "\n",
    "descriptive(df['libido'])"
   ]
  },
  {
   "cell_type": "code",
   "execution_count": 38,
   "metadata": {},
   "outputs": [
    {
     "data": {
      "text/html": [
       "<div>\n",
       "<style scoped>\n",
       "    .dataframe tbody tr th:only-of-type {\n",
       "        vertical-align: middle;\n",
       "    }\n",
       "\n",
       "    .dataframe tbody tr th {\n",
       "        vertical-align: top;\n",
       "    }\n",
       "\n",
       "    .dataframe thead th {\n",
       "        text-align: right;\n",
       "    }\n",
       "</style>\n",
       "<table border=\"1\" class=\"dataframe\">\n",
       "  <thead>\n",
       "    <tr style=\"text-align: right;\">\n",
       "      <th></th>\n",
       "      <th></th>\n",
       "      <th>n</th>\n",
       "      <th>mean</th>\n",
       "      <th>std</th>\n",
       "      <th>95% conf interval</th>\n",
       "    </tr>\n",
       "  </thead>\n",
       "  <tbody>\n",
       "    <tr>\n",
       "      <th>high</th>\n",
       "      <th>libido</th>\n",
       "      <td>5</td>\n",
       "      <td>5.0</td>\n",
       "      <td>1.581139</td>\n",
       "      <td>[3.037, 6.963]</td>\n",
       "    </tr>\n",
       "    <tr>\n",
       "      <th>low</th>\n",
       "      <th>libido</th>\n",
       "      <td>5</td>\n",
       "      <td>3.2</td>\n",
       "      <td>1.303840</td>\n",
       "      <td>[1.581, 4.819]</td>\n",
       "    </tr>\n",
       "    <tr>\n",
       "      <th>placebo</th>\n",
       "      <th>libido</th>\n",
       "      <td>5</td>\n",
       "      <td>2.2</td>\n",
       "      <td>1.303840</td>\n",
       "      <td>[0.581, 3.819]</td>\n",
       "    </tr>\n",
       "  </tbody>\n",
       "</table>\n",
       "</div>"
      ],
      "text/plain": [
       "                n  mean       std 95% conf interval\n",
       "high    libido  5   5.0  1.581139    [3.037, 6.963]\n",
       "low     libido  5   3.2  1.303840    [1.581, 4.819]\n",
       "placebo libido  5   2.2  1.303840    [0.581, 3.819]"
      ]
     },
     "execution_count": 38,
     "metadata": {},
     "output_type": "execute_result"
    }
   ],
   "source": [
    "groups = df['libido'].groupby(df['dose'])\n",
    "pd.concat([descriptive(a[1]) for a in groups],\n",
    "     keys=[a[0] for a in groups] )"
   ]
  },
  {
   "cell_type": "code",
   "execution_count": 39,
   "metadata": {},
   "outputs": [
    {
     "name": "stderr",
     "output_type": "stream",
     "text": [
      "d:\\bsthanh\\Anaconda3\\envs\\jupyter\\lib\\site-packages\\scipy\\stats\\stats.py:1450: UserWarning: kurtosistest only valid for n>=20 ... continuing anyway, n=15\n",
      "  \"anyway, n=%i\" % int(n))\n"
     ]
    },
    {
     "data": {
      "text/html": [
       "<table class=\"simpletable\">\n",
       "<caption>OLS Regression Results</caption>\n",
       "<tr>\n",
       "  <th>Dep. Variable:</th>         <td>libido</td>      <th>  R-squared:         </th> <td>   0.460</td>\n",
       "</tr>\n",
       "<tr>\n",
       "  <th>Model:</th>                   <td>OLS</td>       <th>  Adj. R-squared:    </th> <td>   0.370</td>\n",
       "</tr>\n",
       "<tr>\n",
       "  <th>Method:</th>             <td>Least Squares</td>  <th>  F-statistic:       </th> <td>   5.119</td>\n",
       "</tr>\n",
       "<tr>\n",
       "  <th>Date:</th>             <td>Sat, 15 Feb 2020</td> <th>  Prob (F-statistic):</th>  <td>0.0247</td> \n",
       "</tr>\n",
       "<tr>\n",
       "  <th>Time:</th>                 <td>06:21:44</td>     <th>  Log-Likelihood:    </th> <td> -24.683</td>\n",
       "</tr>\n",
       "<tr>\n",
       "  <th>No. Observations:</th>      <td>    15</td>      <th>  AIC:               </th> <td>   55.37</td>\n",
       "</tr>\n",
       "<tr>\n",
       "  <th>Df Residuals:</th>          <td>    12</td>      <th>  BIC:               </th> <td>   57.49</td>\n",
       "</tr>\n",
       "<tr>\n",
       "  <th>Df Model:</th>              <td>     2</td>      <th>                     </th>     <td> </td>   \n",
       "</tr>\n",
       "<tr>\n",
       "  <th>Covariance Type:</th>      <td>nonrobust</td>    <th>                     </th>     <td> </td>   \n",
       "</tr>\n",
       "</table>\n",
       "<table class=\"simpletable\">\n",
       "<tr>\n",
       "           <td></td>             <th>coef</th>     <th>std err</th>      <th>t</th>      <th>P>|t|</th>  <th>[0.025</th>    <th>0.975]</th>  \n",
       "</tr>\n",
       "<tr>\n",
       "  <th>Intercept</th>          <td>    5.0000</td> <td>    0.627</td> <td>    7.972</td> <td> 0.000</td> <td>    3.634</td> <td>    6.366</td>\n",
       "</tr>\n",
       "<tr>\n",
       "  <th>C(dose)[T.low]</th>     <td>   -1.8000</td> <td>    0.887</td> <td>   -2.029</td> <td> 0.065</td> <td>   -3.732</td> <td>    0.132</td>\n",
       "</tr>\n",
       "<tr>\n",
       "  <th>C(dose)[T.placebo]</th> <td>   -2.8000</td> <td>    0.887</td> <td>   -3.157</td> <td> 0.008</td> <td>   -4.732</td> <td>   -0.868</td>\n",
       "</tr>\n",
       "</table>\n",
       "<table class=\"simpletable\">\n",
       "<tr>\n",
       "  <th>Omnibus:</th>       <td> 2.517</td> <th>  Durbin-Watson:     </th> <td>   2.408</td>\n",
       "</tr>\n",
       "<tr>\n",
       "  <th>Prob(Omnibus):</th> <td> 0.284</td> <th>  Jarque-Bera (JB):  </th> <td>   1.108</td>\n",
       "</tr>\n",
       "<tr>\n",
       "  <th>Skew:</th>          <td> 0.195</td> <th>  Prob(JB):          </th> <td>   0.575</td>\n",
       "</tr>\n",
       "<tr>\n",
       "  <th>Kurtosis:</th>      <td> 1.727</td> <th>  Cond. No.          </th> <td>    3.73</td>\n",
       "</tr>\n",
       "</table><br/><br/>Warnings:<br/>[1] Standard Errors assume that the covariance matrix of the errors is correctly specified."
      ],
      "text/plain": [
       "<class 'statsmodels.iolib.summary.Summary'>\n",
       "\"\"\"\n",
       "                            OLS Regression Results                            \n",
       "==============================================================================\n",
       "Dep. Variable:                 libido   R-squared:                       0.460\n",
       "Model:                            OLS   Adj. R-squared:                  0.370\n",
       "Method:                 Least Squares   F-statistic:                     5.119\n",
       "Date:                Sat, 15 Feb 2020   Prob (F-statistic):             0.0247\n",
       "Time:                        06:21:44   Log-Likelihood:                -24.683\n",
       "No. Observations:                  15   AIC:                             55.37\n",
       "Df Residuals:                      12   BIC:                             57.49\n",
       "Df Model:                           2                                         \n",
       "Covariance Type:            nonrobust                                         \n",
       "======================================================================================\n",
       "                         coef    std err          t      P>|t|      [0.025      0.975]\n",
       "--------------------------------------------------------------------------------------\n",
       "Intercept              5.0000      0.627      7.972      0.000       3.634       6.366\n",
       "C(dose)[T.low]        -1.8000      0.887     -2.029      0.065      -3.732       0.132\n",
       "C(dose)[T.placebo]    -2.8000      0.887     -3.157      0.008      -4.732      -0.868\n",
       "==============================================================================\n",
       "Omnibus:                        2.517   Durbin-Watson:                   2.408\n",
       "Prob(Omnibus):                  0.284   Jarque-Bera (JB):                1.108\n",
       "Skew:                           0.195   Prob(JB):                        0.575\n",
       "Kurtosis:                       1.727   Cond. No.                         3.73\n",
       "==============================================================================\n",
       "\n",
       "Warnings:\n",
       "[1] Standard Errors assume that the covariance matrix of the errors is correctly specified.\n",
       "\"\"\""
      ]
     },
     "execution_count": 39,
     "metadata": {},
     "output_type": "execute_result"
    }
   ],
   "source": [
    "results = ols('libido ~ C(dose)', data=df).fit()\n",
    "results.summary()"
   ]
  },
  {
   "cell_type": "markdown",
   "metadata": {},
   "source": [
    "---\n",
    "Lưu ý Intercept trong model là high dose.  \n",
    "f-stat = 5.119, p-value = 0.0247 < 0.05  \n",
    "=> reject $H_0$, có sự khác nhau có ý nghĩa thống kê giữa dose của thuốc Difficile lên libido"
   ]
  },
  {
   "cell_type": "code",
   "execution_count": 47,
   "metadata": {},
   "outputs": [
    {
     "data": {
      "text/html": [
       "<div>\n",
       "<style scoped>\n",
       "    .dataframe tbody tr th:only-of-type {\n",
       "        vertical-align: middle;\n",
       "    }\n",
       "\n",
       "    .dataframe tbody tr th {\n",
       "        vertical-align: top;\n",
       "    }\n",
       "\n",
       "    .dataframe thead th {\n",
       "        text-align: right;\n",
       "    }\n",
       "</style>\n",
       "<table border=\"1\" class=\"dataframe\">\n",
       "  <thead>\n",
       "    <tr style=\"text-align: right;\">\n",
       "      <th></th>\n",
       "      <th>df</th>\n",
       "      <th>sum_sq</th>\n",
       "      <th>mean_sq</th>\n",
       "      <th>F</th>\n",
       "      <th>PR(&gt;F)</th>\n",
       "    </tr>\n",
       "  </thead>\n",
       "  <tbody>\n",
       "    <tr>\n",
       "      <th>C(dose)</th>\n",
       "      <td>2.0</td>\n",
       "      <td>20.133333</td>\n",
       "      <td>10.066667</td>\n",
       "      <td>5.118644</td>\n",
       "      <td>0.024694</td>\n",
       "    </tr>\n",
       "    <tr>\n",
       "      <th>Residual</th>\n",
       "      <td>12.0</td>\n",
       "      <td>23.600000</td>\n",
       "      <td>1.966667</td>\n",
       "      <td>NaN</td>\n",
       "      <td>NaN</td>\n",
       "    </tr>\n",
       "  </tbody>\n",
       "</table>\n",
       "</div>"
      ],
      "text/plain": [
       "            df     sum_sq    mean_sq         F    PR(>F)\n",
       "C(dose)    2.0  20.133333  10.066667  5.118644  0.024694\n",
       "Residual  12.0  23.600000   1.966667       NaN       NaN"
      ]
     },
     "execution_count": 47,
     "metadata": {},
     "output_type": "execute_result"
    }
   ],
   "source": [
    "aov_table = sm.stats.anova_lm(results, typ=1)\n",
    "aov_table"
   ]
  },
  {
   "cell_type": "code",
   "execution_count": 56,
   "metadata": {},
   "outputs": [],
   "source": [
    "RSS = aov_table['sum_sq']['Residual']\n",
    "TSS = sum(aov_table['sum_sq'])"
   ]
  },
  {
   "cell_type": "code",
   "execution_count": 57,
   "metadata": {},
   "outputs": [
    {
     "data": {
      "text/plain": [
       "0.46036585365853644"
      ]
     },
     "execution_count": 57,
     "metadata": {},
     "output_type": "execute_result"
    }
   ],
   "source": [
    "def eta_squared(RSS,TSS):\n",
    "    return 1 - RSS/TSS\n",
    "\n",
    "eta_squared(RSS,TSS)\n",
    "# tương đương R square trong ket quả linear regression"
   ]
  },
  {
   "cell_type": "code",
   "execution_count": 61,
   "metadata": {},
   "outputs": [
    {
     "data": {
      "text/plain": [
       "0.3544857768052514"
      ]
     },
     "execution_count": 61,
     "metadata": {},
     "output_type": "execute_result"
    }
   ],
   "source": [
    "def omega_squared(RSS,TSS,df1,df2):\n",
    "    return (TSS-RSS-df1/df2*RSS)/(TSS+RSS/df2)\n",
    "\n",
    "omega_squared(RSS,TSS,2,12)"
   ]
  },
  {
   "cell_type": "markdown",
   "metadata": {},
   "source": []
  }
 ],
 "metadata": {
  "kernelspec": {
   "display_name": "Python 3",
   "language": "python",
   "name": "python3"
  },
  "language_info": {
   "codemirror_mode": {
    "name": "ipython",
    "version": 3
   },
   "file_extension": ".py",
   "mimetype": "text/x-python",
   "name": "python",
   "nbconvert_exporter": "python",
   "pygments_lexer": "ipython3",
   "version": "3.7.3"
  }
 },
 "nbformat": 4,
 "nbformat_minor": 4
}
