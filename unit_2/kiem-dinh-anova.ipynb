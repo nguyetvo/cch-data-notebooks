{
 "cells": [
  {
   "cell_type": "markdown",
   "metadata": {},
   "source": [
    "# <center>KIỂM ĐỊNH ANOVA</center>\n",
    "\n",
    "**ANOVA (Analysis of Variance)** có thể xem như là t-test mở rộng, nó được dùng để kiểm tra trung bình của nhiều hơn 2 nhóm có bằng nhau không?\n",
    "\n",
    "$ H_0: \\mu_1 = \\mu_2 = ... = \\mu_k $  \n",
    "$ H_1: $ Các $\\mu$ không bằng nhau  \n",
    "k là số nhóm"
   ]
  },
  {
   "cell_type": "markdown",
   "metadata": {},
   "source": [
    "# Điều kiện:\n",
    "1. Normality: các nhóm phải có phân bố normal.\n",
    "2. Homogeneity: các nhóm phải có variance như nhau.\n",
    "3. Các nhóm phải độc lập với nhau\n",
    "\n",
    "Khi các điều kiện trên không thoả, thì ta dùng **Kruskal-Wallis H-test or Welch’s ANOVA.**\n",
    "\n",
    "Kết quả của ANOVA là dựa trên f distribution với 2 độ tự do df1=k-1, df2=n-k."
   ]
  },
  {
   "cell_type": "markdown",
   "metadata": {},
   "source": [
    "# Công thức của ANOVA là dựa trên mô hình linear regresion.\n",
    "\n",
    "f-statistics $ = \\frac{\\text{(TSS-RSS)/df1}}{\\text{RSS/df2}} $  \n",
    "Trong đó:  \n",
    "- TSS: total sum of square = $ \\sum (y-\\overline{y})^2 $\n",
    "- RSS: residual sum of square = $ \\sum (y-\\hat{y})^2 $\n",
    "- df1, df2: độ tự do của phân phối f, df1=k-1, df2=n-k\n",
    "- n là số data, k là số nhóm"
   ]
  },
  {
   "cell_type": "markdown",
   "metadata": {},
   "source": [
    "# Chỉ số eta-square với omega-square để ước tính hiệu quả của nghiên cứu với thực tế\n",
    "eta-square tương đương với $R^2$ trong linear regression, tức là giải thích variance của model so với variance của data.\n",
    "\n",
    "$\\eta^2 = R^2 = \\frac{\\text{TSS - RSS}}{\\text{TSS}} $\n",
    "\n",
    "Omega-square là chỉ số tốt hơn eta-square vì nó không bias\n",
    "\n",
    "<font size=\"+1\">$ \\omega^2 = \\frac{\\text{(TSS - RSS)} - \\frac{\\text{df1}}{\\text{df2}} RSS   }{ \\text{TSS} - \\frac{1}{\\text{df2}}\\text{RSS} }$ </font>"
   ]
  },
  {
   "cell_type": "markdown",
   "metadata": {},
   "source": [
    "# Kiểm tra điều kiện ANOVA bằng tests\n",
    "Khi tính ANOVA thông qua linear regression thì các điều kiện lên data được áp dụng trên residual\n",
    "\n",
    "1. Levene's test để kiểm tra *homogeneity of variance*\n",
    "2. Shapiro's test để kiểm tra *normality*\n",
    "\n",
    "# Post-hoc test\n",
    "Kết quả anova cho phép ta nói biến số có hoặc không có liên quan outcome.  Nó không so sánh được giữa 2 nhóm trong đó với nhau. Do đó, ta cần post-hoc test.  \n",
    "\n",
    "1. Bonferroni Correction Post-hoc Comparison  \n",
    "Với f-stats, ta đặt mức có ý nghĩa là $\\alpha$ là 0.05. Khi dùng Bonferroni, thì ta lấy $\\alpha$ chia cho số lần so sánh là ra mức có ý nghĩa của t-test từng cặp nhóm.  \n",
    "2. Tukey’s HSD Post-hoc comparison  \n",
    "Tương tự như Bonferroni, tukey kiểm soát alpha chung của ANOVA = 0.05 bằng phương pháp khác, sau đó tính t-test sự khác nhau của từng cặp nhóm."
   ]
  },
  {
   "cell_type": "code",
   "execution_count": 10,
   "metadata": {},
   "outputs": [],
   "source": [
    "import pandas as pd\n",
    "import scipy.stats as st\n",
    "import statsmodels.api as sm\n",
    "from statsmodels.formula.api import ols\n",
    "import numpy as np"
   ]
  },
  {
   "cell_type": "code",
   "execution_count": 4,
   "metadata": {},
   "outputs": [
    {
     "data": {
      "text/html": [
       "<div>\n",
       "<style scoped>\n",
       "    .dataframe tbody tr th:only-of-type {\n",
       "        vertical-align: middle;\n",
       "    }\n",
       "\n",
       "    .dataframe tbody tr th {\n",
       "        vertical-align: top;\n",
       "    }\n",
       "\n",
       "    .dataframe thead th {\n",
       "        text-align: right;\n",
       "    }\n",
       "</style>\n",
       "<table border=\"1\" class=\"dataframe\">\n",
       "  <thead>\n",
       "    <tr style=\"text-align: right;\">\n",
       "      <th></th>\n",
       "      <th>dose</th>\n",
       "      <th>libido</th>\n",
       "    </tr>\n",
       "  </thead>\n",
       "  <tbody>\n",
       "    <tr>\n",
       "      <th>0</th>\n",
       "      <td>placebo</td>\n",
       "      <td>3</td>\n",
       "    </tr>\n",
       "    <tr>\n",
       "      <th>1</th>\n",
       "      <td>placebo</td>\n",
       "      <td>2</td>\n",
       "    </tr>\n",
       "    <tr>\n",
       "      <th>2</th>\n",
       "      <td>placebo</td>\n",
       "      <td>1</td>\n",
       "    </tr>\n",
       "    <tr>\n",
       "      <th>3</th>\n",
       "      <td>placebo</td>\n",
       "      <td>1</td>\n",
       "    </tr>\n",
       "    <tr>\n",
       "      <th>4</th>\n",
       "      <td>placebo</td>\n",
       "      <td>4</td>\n",
       "    </tr>\n",
       "  </tbody>\n",
       "</table>\n",
       "</div>"
      ],
      "text/plain": [
       "      dose  libido\n",
       "0  placebo       3\n",
       "1  placebo       2\n",
       "2  placebo       1\n",
       "3  placebo       1\n",
       "4  placebo       4"
      ]
     },
     "execution_count": 4,
     "metadata": {},
     "output_type": "execute_result"
    }
   ],
   "source": [
    "df = pd.read_csv(\"https://raw.githubusercontent.com/Opensourcefordatascience/Data-sets/master/difficile.csv\")\n",
    "df.drop('person', axis= 1, inplace= True)\n",
    "\n",
    "# Recoding value from numeric to string\n",
    "df['dose'].replace({1: 'placebo', 2: 'low', 3: 'high'}, inplace= True)\n",
    "\n",
    "df.head()"
   ]
  },
  {
   "cell_type": "code",
   "execution_count": null,
   "metadata": {},
   "outputs": [],
   "source": []
  }
 ],
 "metadata": {
  "kernelspec": {
   "display_name": "Python 3",
   "language": "python",
   "name": "python3"
  },
  "language_info": {
   "codemirror_mode": {
    "name": "ipython",
    "version": 3
   },
   "file_extension": ".py",
   "mimetype": "text/x-python",
   "name": "python",
   "nbconvert_exporter": "python",
   "pygments_lexer": "ipython3",
   "version": "3.7.3"
  }
 },
 "nbformat": 4,
 "nbformat_minor": 4
}
