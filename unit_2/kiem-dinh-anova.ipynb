{
 "cells": [
  {
   "cell_type": "markdown",
   "metadata": {},
   "source": [
    "# <center>KIỂM ĐỊNH ANOVA</center>\n",
    "\n",
    "**ANOVA (Analysis of Variance)** có thể xem như là t-test mở rộng, nó được dùng để kiểm tra trung bình của nhiều hơn 2 nhóm có bằng nhau không?\n",
    "\n",
    "$ H_0: \\mu_1 = \\mu_2 = ... = \\mu_k $  \n",
    "$ H_1: $ Các $\\mu$ không bằng nhau  \n",
    "k là số nhóm"
   ]
  },
  {
   "cell_type": "markdown",
   "metadata": {},
   "source": [
    "# Điều kiện:\n",
    "1. Normality: các nhóm phải có phân bố normal.\n",
    "2. Homogeneity: các nhóm phải có variance như nhau.\n",
    "3. Các nhóm phải độc lập với nhau\n",
    "\n",
    "Khi các điều kiện trên không thoả, thì ta dùng **Kruskal-Wallis H-test or Welch’s ANOVA.**\n",
    "\n",
    "Kết quả của ANOVA là dựa trên f distribution với 2 độ tự do df1=k-1, df2=n-k."
   ]
  },
  {
   "cell_type": "markdown",
   "metadata": {},
   "source": [
    "# Công thức của ANOVA là dựa trên mô hình linear regresion.\n",
    "\n",
    "f-statistics $ = \\frac{\\text{(TSS-RSS)/df1}}{\\text{RSS/df2}} $  \n",
    "Trong đó:  \n",
    "- TSS: total sum of square = $ \\sum (y-\\overline{y})^2 $\n",
    "- RSS: residual sum of square = $ \\sum (y-\\hat{y})^2 $\n",
    "- df1, df2: độ tự do của phân phối f, df1=k-1, df2=n-k\n",
    "- n là số data, k là số nhóm"
   ]
  },
  {
   "cell_type": "markdown",
   "metadata": {},
   "source": []
  }
 ],
 "metadata": {
  "kernelspec": {
   "display_name": "Python 3",
   "language": "python",
   "name": "python3"
  },
  "language_info": {
   "codemirror_mode": {
    "name": "ipython",
    "version": 3
   },
   "file_extension": ".py",
   "mimetype": "text/x-python",
   "name": "python",
   "nbconvert_exporter": "python",
   "pygments_lexer": "ipython3",
   "version": "3.7.6"
  }
 },
 "nbformat": 4,
 "nbformat_minor": 4
}
