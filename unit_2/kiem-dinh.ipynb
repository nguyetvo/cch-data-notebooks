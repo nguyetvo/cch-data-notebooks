{
 "cells": [
  {
   "cell_type": "markdown",
   "metadata": {},
   "source": [
    "# <center>KIỂM ĐỊNH GIẢ THUYẾT</center>\n"
   ]
  },
  {
   "cell_type": "markdown",
   "metadata": {},
   "source": [
    "# I. Hypothesis testing là gì?\n",
    "Trong Hypothesis testing, ta đưa ra một giả định về thông số của quần thể.  \n",
    "- Trung bình cân nặng, chiều cao  \n",
    "- Thời gian chờ khám\n",
    "- ...\n",
    "\n",
    "Ta thu thập dữ liệu và tính xác suất giả định này là **Đúng**."
   ]
  },
  {
   "cell_type": "markdown",
   "metadata": {},
   "source": [
    "# II. Quy trình Hypothesis testing\n",
    "- Đặt Null hypothesis: H0 = không có sự khác biệt\n",
    "- Đặt Research hypothesis: H1 = có sự khác biệt\n",
    "- Thu thập dữ liệu\n",
    "- Tính p-value của thông số trong H1 nếu H0 là đúng\n",
    "- Kết luận: **Từ chối** H0 hoặc **không từ chối** H0\n",
    "\n",
    "Ở đây, chúng ta thường chọn p <0.05 là từ chối H0, có nghĩa là H1 đúng ( có sự khác biệt).  \n",
    "**Tuy nhiên**, p >0.05 không có nghĩa là H1 sai, mà có thể dữ liệu chưa đủ lớn để chứng minh nó sai. ( do Central Limit Theorem)  \n",
    "Con số 0.05 này chỉ là một giá trị cut-off do lịch sử đặt ra, phải interpret cẩn thận."
   ]
  },
  {
   "cell_type": "markdown",
   "metadata": {},
   "source": [
    "---\n",
    "# III. Ví dụ đơn giản\n",
    "- H0: Khoa NNgTk có thời gian điều trị trung bình = 5 ngày\n",
    "- H1: Khoa NNgTk có thời gian điều trị trung bình > 5 ngày\n",
    "- Thu thập dữ liệu thời gian điều trị của bệnh nhân tháng 12/2019 tại khoa NNgTk"
   ]
  },
  {
   "cell_type": "code",
   "execution_count": 1,
   "metadata": {},
   "outputs": [],
   "source": [
    "import pandas as pd\n",
    "import numpy as np\n",
    "import scipy.stats as st\n",
    "import matplotlib.pyplot as plt\n",
    "from math import sqrt\n",
    "%matplotlib inline"
   ]
  },
  {
   "cell_type": "code",
   "execution_count": 2,
   "metadata": {},
   "outputs": [
    {
     "data": {
      "text/html": [
       "<div>\n",
       "<style scoped>\n",
       "    .dataframe tbody tr th:only-of-type {\n",
       "        vertical-align: middle;\n",
       "    }\n",
       "\n",
       "    .dataframe tbody tr th {\n",
       "        vertical-align: top;\n",
       "    }\n",
       "\n",
       "    .dataframe thead th {\n",
       "        text-align: right;\n",
       "    }\n",
       "</style>\n",
       "<table border=\"1\" class=\"dataframe\">\n",
       "  <thead>\n",
       "    <tr style=\"text-align: right;\">\n",
       "      <th></th>\n",
       "      <th>MABN</th>\n",
       "      <th>NGAYDT</th>\n",
       "    </tr>\n",
       "  </thead>\n",
       "  <tbody>\n",
       "    <tr>\n",
       "      <th>0</th>\n",
       "      <td>18067560</td>\n",
       "      <td>2</td>\n",
       "    </tr>\n",
       "    <tr>\n",
       "      <th>1</th>\n",
       "      <td>19048073</td>\n",
       "      <td>8</td>\n",
       "    </tr>\n",
       "    <tr>\n",
       "      <th>2</th>\n",
       "      <td>18039088</td>\n",
       "      <td>1</td>\n",
       "    </tr>\n",
       "    <tr>\n",
       "      <th>3</th>\n",
       "      <td>17002853</td>\n",
       "      <td>5</td>\n",
       "    </tr>\n",
       "    <tr>\n",
       "      <th>4</th>\n",
       "      <td>18115092</td>\n",
       "      <td>3</td>\n",
       "    </tr>\n",
       "  </tbody>\n",
       "</table>\n",
       "</div>"
      ],
      "text/plain": [
       "       MABN  NGAYDT\n",
       "0  18067560       2\n",
       "1  19048073       8\n",
       "2  18039088       1\n",
       "3  17002853       5\n",
       "4  18115092       3"
      ]
     },
     "execution_count": 2,
     "metadata": {},
     "output_type": "execute_result"
    }
   ],
   "source": [
    "data = pd.read_excel(\"tgdt-nngtk-t12.xlsx\")\n",
    "data.head()"
   ]
  },
  {
   "cell_type": "code",
   "execution_count": 3,
   "metadata": {},
   "outputs": [
    {
     "name": "stdout",
     "output_type": "stream",
     "text": [
      "<class 'pandas.core.frame.DataFrame'>\n",
      "RangeIndex: 189 entries, 0 to 188\n",
      "Data columns (total 2 columns):\n",
      "MABN      189 non-null int64\n",
      "NGAYDT    189 non-null int64\n",
      "dtypes: int64(2)\n",
      "memory usage: 3.1 KB\n"
     ]
    }
   ],
   "source": [
    "data.info()"
   ]
  },
  {
   "cell_type": "code",
   "execution_count": 4,
   "metadata": {},
   "outputs": [
    {
     "data": {
      "text/plain": [
       "count    189.000000\n",
       "mean       5.677249\n",
       "std        4.584498\n",
       "min        1.000000\n",
       "25%        3.000000\n",
       "50%        5.000000\n",
       "75%        7.000000\n",
       "max       31.000000\n",
       "Name: NGAYDT, dtype: float64"
      ]
     },
     "execution_count": 4,
     "metadata": {},
     "output_type": "execute_result"
    }
   ],
   "source": [
    "data['NGAYDT'].describe()"
   ]
  },
  {
   "cell_type": "code",
   "execution_count": 5,
   "metadata": {},
   "outputs": [
    {
     "data": {
      "image/png": "[encoded data removed]",
      "text/plain": [
       "<Figure size 720x360 with 2 Axes>"
      ]
     },
     "metadata": {
      "needs_background": "light"
     },
     "output_type": "display_data"
    }
   ],
   "source": [
    "fig, ax = plt.subplots(nrows=1, ncols=2, figsize=(10,5))\n",
    "data['NGAYDT'].plot(kind='hist', ax=ax[0])\n",
    "data['NGAYDT'].plot(kind='box', ax=ax[1]);"
   ]
  },
  {
   "cell_type": "markdown",
   "metadata": {},
   "source": [
    "**Nhìn chung số ngày điều trị có outliers, tuy nhiên cứ để đó thử xem.**"
   ]
  },
  {
   "cell_type": "code",
   "execution_count": 6,
   "metadata": {},
   "outputs": [],
   "source": [
    "# H0: phân phối normal có mean = 5, std = sample std/ sqrt(n)\n",
    "h0 = st.norm(loc=5, scale=data['NGAYDT'].std()/sqrt(data['NGAYDT'].count()))"
   ]
  },
  {
   "cell_type": "code",
   "execution_count": 7,
   "metadata": {},
   "outputs": [
    {
     "data": {
      "image/png": "[encoded data removed]",
      "text/plain": [
       "<Figure size 432x288 with 1 Axes>"
      ]
     },
     "metadata": {
      "needs_background": "light"
     },
     "output_type": "display_data"
    }
   ],
   "source": [
    "# Giả sử H0 đúng, thì H1 của mình nằm ở đâu?\n",
    "\n",
    "# Vẽ H0\n",
    "arr = np.linspace(3,7,100)\n",
    "plt.plot(arr, h0.pdf(arr))\n",
    "plt.xlabel(\"Thời gian điều trị trung bình của khoa Nội ngoại Thần kinh\")\n",
    "\n",
    "# Vẽ điểm H1 = data.mean\n",
    "h1 = data['NGAYDT'].mean()\n",
    "plt.axvline(x=h1, ymin= 0.05, ymax=h0.pdf(h1), color='red')\n",
    "plt.xticks([3,4,5,h1,7])\n",
    "plt.text(h1, 0.15, \"Mean của data\")\n",
    "\n",
    "# Vẽ p-value\n",
    "pvarr = np.linspace(h1,7,50)\n",
    "plt.fill_between(pvarr, h0.pdf(pvarr) , facecolor='lightblue' )\n",
    "plt.text(6, 0.02, \"p-value\");"
   ]
  },
  {
   "cell_type": "code",
   "execution_count": 8,
   "metadata": {},
   "outputs": [
    {
     "data": {
      "text/plain": [
       "0.02113285894821083"
      ]
     },
     "execution_count": 8,
     "metadata": {},
     "output_type": "execute_result"
    }
   ],
   "source": [
    "# tính p-value\n",
    "p_val = h0.sf(h1)\n",
    "p_val"
   ]
  },
  {
   "cell_type": "markdown",
   "metadata": {},
   "source": [
    "**=> P-value <0.05, vậy data mà ta thu thập được: 5.677 và 5 khác biệt có ý nghĩa thống kê.**"
   ]
  },
  {
   "cell_type": "markdown",
   "metadata": {},
   "source": [
    "---\n",
    "# IV. Ví dụ 2:\n",
    "NCHS reported that the mean total cholesterol level in 2002 for all adults was 203.  \n",
    "Suppose a new drug is proposed to lower total cholesterol, and a study is designed to evaluate the efficacy of the drug in lowering cholesterol. Fifteen patients are enrolled in the study and asked to take the new drug for 6 weeks. At the end of 6 weeks, each\n",
    "patient’s total cholesterol level is measured and the sample statistics are as follows: n = 15, m= 195.9, and s = 28.7.\n",
    "- H0: cholesterol = 203\n",
    "- H1: cholesterol  $\\neq$ 203"
   ]
  },
  {
   "cell_type": "code",
   "execution_count": 9,
   "metadata": {},
   "outputs": [],
   "source": [
    "# H0 có phân phối normal của mean = 203, std = std sample/sqrt(n) \n",
    "h0 = st.norm(loc=203, scale=28.7/sqrt(15))"
   ]
  },
  {
   "cell_type": "code",
   "execution_count": 10,
   "metadata": {},
   "outputs": [
    {
     "data": {
      "image/png": "[encoded data removed]",
      "text/plain": [
       "<Figure size 432x288 with 1 Axes>"
      ]
     },
     "metadata": {
      "needs_background": "light"
     },
     "output_type": "display_data"
    }
   ],
   "source": [
    "arr = np.linspace(180,225,100)\n",
    "plt.plot(arr, h0.pdf(arr))\n",
    "\n",
    "h1 = 195.9\n",
    "plt.axvline(x=h1, ymin= 0.05, ymax=0.6, color='red')\n",
    "plt.text(h1-1.5, 0.03, \"Mean của data\");\n",
    "\n",
    "pvarr = np.linspace(180, h1,50)\n",
    "plt.fill_between(pvarr, h0.pdf(pvarr) , facecolor='lightblue' )\n",
    "plt.text(h1-8, 0.005, \"p-value\");"
   ]
  },
  {
   "cell_type": "code",
   "execution_count": 11,
   "metadata": {},
   "outputs": [
    {
     "data": {
      "text/plain": [
       "0.3577956015930849"
      ]
     },
     "execution_count": 11,
     "metadata": {},
     "output_type": "execute_result"
    }
   ],
   "source": [
    "p_value = h0.cdf(200.3)\n",
    "p_value"
   ]
  },
  {
   "cell_type": "markdown",
   "metadata": {},
   "source": [
    "**=>p-value >0.05, vậy 200.3 và 203 khác biệt không có ý nghĩa thống kê.**"
   ]
  },
  {
   "cell_type": "markdown",
   "metadata": {},
   "source": [
    "---\n",
    "# V. Kết luận:\n",
    "Hypothesis testing dựa trên Central Limit Theorem.\n",
    "### Tuy nhiên, một số vấn đề cần lưu ý:\n",
    "- **Statistical significance** và **clinical significance** là 2 khái niệm hoàn toàn khác nhau.  \n",
    "    Ví dụ đầu tiên, mặc dù 5.677 khác 5 có ý nghĩa thống kê nhưng không có giá trị thực tế\n",
    "- P-value > 0.05 không có nghĩa là giống nhau mà là chưa đủ dữ kiện để kết luận khác nhau.  \n",
    "    Ví dụ 2, p >0.05 là do cỡ mẫu nhỏ\n",
    "- Việc tính toán thì dễ, nhưng sampling methods, study designs là yếu tố quyết định phương thức có hợp lý với câu hỏi nghiên cứu hay không.  \n",
    "    Rõ ràng ví dụ 2 lấy mẫu bệnh nhân so với trung bình của cộng đồng là sai.  \n",
    "    Nên thực hiện nghiên cứu trước và sau can thiệp."
   ]
  }
 ],
 "metadata": {
  "kernelspec": {
   "display_name": "Python 3",
   "language": "python",
   "name": "python3"
  },
  "language_info": {
   "codemirror_mode": {
    "name": "ipython",
    "version": 3
   },
   "file_extension": ".py",
   "mimetype": "text/x-python",
   "name": "python",
   "nbconvert_exporter": "python",
   "pygments_lexer": "ipython3",
   "version": "3.7.6"
  }
 },
 "nbformat": 4,
 "nbformat_minor": 4
}
