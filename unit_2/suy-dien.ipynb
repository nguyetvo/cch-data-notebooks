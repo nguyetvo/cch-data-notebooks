{
 "cells": [
  {
   "cell_type": "markdown",
   "metadata": {},
   "source": [
    "# <center>SUY DIỄN QUẦN THỂ</center>\n",
    "<img src=\"../images/dang1.png\" width=300>"
   ]
  },
  {
   "cell_type": "markdown",
   "metadata": {},
   "source": [
    "## I. CENTRAL LIMIT THEOREM\n",
    "Với 1 quần thể bất kỳ - chưa rõ phân phối thế nào, ta chọn hàng loạt mẫu từ quần thể đó (Mẫu A, mẫu B, ...) thì con số trung bình của các mẫu đó ( trung bình A, trung bình B, ..) phân phối theo phân phối bình thường.  \n",
    "<img src=\"https://upload.wikimedia.org/wikipedia/commons/thumb/7/7b/IllustrationCentralTheorem.png/1920px-IllustrationCentralTheorem.png\">  "
   ]
  },
  {
   "cell_type": "markdown",
   "metadata": {},
   "source": [
    "### Các thuộc tính của phân phối bình thường của trung bình:\n",
    "- Phân phối của quần thể không nhất thiết phải normal\n",
    "- Mẫu có số mẫu càng lớn thì phân phối càng hẹp lại\n",
    "- Tương quan với trung bình và độ biến thiên của quần thể"
   ]
  },
  {
   "cell_type": "markdown",
   "metadata": {},
   "source": [
    "---\n",
    "## II. Suy diễn số trung bình của quần thể\n",
    "- Quần thể:\n",
    "    - Trung bình: M\n",
    "- Mẫu:\n",
    "    - Trung bình: $\\mu$\n",
    "    - Độ lệch chuẩn: $\\sigma$\n",
    "\n",
    "Khoảng tin cậy 95% của số trung bình là:  \n",
    "$$ M = \\mu \\pm 1.96 \\frac{\\sigma}{\\sqrt{n}}$$\n",
    "(1.96 thì tương đương PDF của normal distribution = 95%, 2 thì PDF=95.6%)"
   ]
  },
  {
   "cell_type": "markdown",
   "metadata": {},
   "source": [
    "---\n",
    "## III. Suy diễn tỉ lệ của quần thể\n",
    "- Quần thể:\n",
    "    - Tỉ lệ: PROPORTION\n",
    "- Mẫu:\n",
    "    - Tỉ lệ: p\n",
    "\n",
    "Khoảng tin cậy 95% của tỉ lệ là:  \n",
    "$$ \\text{PROPORTION} = p \\pm 1.96 \\sqrt{\\frac{p(1-p)}{n}}$$"
   ]
  },
  {
   "cell_type": "markdown",
   "metadata": {},
   "source": [
    "---\n",
    "## IV. Tuy nhiên, điều kiện để dùng công thức này là cỡ mẫu $\\ge$ 30\n",
    "Nếu cỡ mẫu < 30 thì ta phải thay con số 1.96 bằng kết quả  \n",
    "Percent point function (ppf) của student-t distribution có degree of freedom là **n-1**. (n là cỡ mẫu)  \n",
    "**Khi n$\\ge$30 thì phân phối student-t = phân phối normal.**\n",
    "\n",
    "Đối với **proportion** thì điều kiện là np$\\geq$5 và n(1-p)$\\geq$5.  \n",
    "\n",
    "|Type      | Condition to use 1.96 - PDF(normal-distribution) =95%)|\n",
    "|----------|--------------------------------|\n",
    "|Mean      |$ n\\geq 30 $                    |\n",
    "|Proportion|$ \\text{min}[np, n(1-p)]\\geq 5 $|"
   ]
  },
  {
   "cell_type": "markdown",
   "metadata": {},
   "source": [
    "---\n",
    "## V. Thực hành"
   ]
  },
  {
   "cell_type": "code",
   "execution_count": 13,
   "metadata": {},
   "outputs": [],
   "source": [
    "import numpy as np\n",
    "import scipy.stats as st\n",
    "import matplotlib.pyplot as plt"
   ]
  },
  {
   "cell_type": "markdown",
   "metadata": {},
   "source": [
    "### A. Khởi tạo standard normal distribution ( trung bình = 0, độ lệch chuẩn = 1)"
   ]
  },
  {
   "cell_type": "code",
   "execution_count": 20,
   "metadata": {},
   "outputs": [],
   "source": [
    "normal_distribution = st.norm()"
   ]
  },
  {
   "cell_type": "markdown",
   "metadata": {},
   "source": [
    "##### Tính PDF của phân phối ở khoảng -1.96 -> 1.96 (=95%) bằng cách lấy hiệu của CDF(1.96)- CDF(-1.96)"
   ]
  },
  {
   "cell_type": "code",
   "execution_count": 16,
   "metadata": {},
   "outputs": [
    {
     "data": {
      "text/plain": [
       "0.950004209703559"
      ]
     },
     "execution_count": 16,
     "metadata": {},
     "output_type": "execute_result"
    }
   ],
   "source": [
    "normal_distribution.cdf(1.96)- normal_distribution.cdf(-1.96)"
   ]
  },
  {
   "cell_type": "markdown",
   "metadata": {},
   "source": [
    "##### Có thể tính ngược lại bằng PPF(0.025)=-1.96 và PPF(0.975)=1.96. (0.975 - 0.025 = 95%)"
   ]
  },
  {
   "cell_type": "code",
   "execution_count": 19,
   "metadata": {},
   "outputs": [
    {
     "data": {
      "text/plain": [
       "-1.9599639845400545"
      ]
     },
     "execution_count": 19,
     "metadata": {},
     "output_type": "execute_result"
    }
   ],
   "source": [
    "normal_distribution.ppf(0.025)"
   ]
  },
  {
   "cell_type": "code",
   "execution_count": 21,
   "metadata": {},
   "outputs": [
    {
     "data": {
      "text/plain": [
       "1.959963984540054"
      ]
     },
     "execution_count": 21,
     "metadata": {},
     "output_type": "execute_result"
    }
   ],
   "source": [
    "normal_distribution.ppf(0.975)"
   ]
  },
  {
   "cell_type": "markdown",
   "metadata": {},
   "source": [
    "### B. Khởi tạo student-t distribution (độ tự do =9, trung bình =0, độ lệch chuẩn =1)"
   ]
  },
  {
   "cell_type": "code",
   "execution_count": 23,
   "metadata": {},
   "outputs": [],
   "source": [
    "t_dist = st.t(df=9) # df là degree of freedom = n-1"
   ]
  },
  {
   "cell_type": "markdown",
   "metadata": {},
   "source": [
    "##### Tính PPF(0.025) và PPF(0.975)"
   ]
  },
  {
   "cell_type": "code",
   "execution_count": 24,
   "metadata": {},
   "outputs": [
    {
     "data": {
      "text/plain": [
       "-2.262157162740992"
      ]
     },
     "execution_count": 24,
     "metadata": {},
     "output_type": "execute_result"
    }
   ],
   "source": [
    "t_dist.ppf(0.025)"
   ]
  },
  {
   "cell_type": "code",
   "execution_count": 25,
   "metadata": {},
   "outputs": [
    {
     "data": {
      "text/plain": [
       "2.2621571627409915"
      ]
     },
     "execution_count": 25,
     "metadata": {},
     "output_type": "execute_result"
    }
   ],
   "source": [
    "t_dist.ppf(0.975)"
   ]
  },
  {
   "cell_type": "markdown",
   "metadata": {},
   "source": [
    "**=> Suy diễn quần thể sẽ dùng con số 2.26 thay cho 1.96** với cỡ mẫu=10 (df=9), điều này nghĩa là khoảng tin cậy của mình sẽ rộng hơn vì cỡ mẫu nhỏ"
   ]
  }
 ],
 "metadata": {
  "kernelspec": {
   "display_name": "Python 3",
   "language": "python",
   "name": "python3"
  },
  "language_info": {
   "codemirror_mode": {
    "name": "ipython",
    "version": 3
   },
   "file_extension": ".py",
   "mimetype": "text/x-python",
   "name": "python",
   "nbconvert_exporter": "python",
   "pygments_lexer": "ipython3",
   "version": "3.7.3"
  }
 },
 "nbformat": 4,
 "nbformat_minor": 4
}
