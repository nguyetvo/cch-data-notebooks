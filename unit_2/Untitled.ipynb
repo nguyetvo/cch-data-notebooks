{
 "cells": [
  {
   "cell_type": "markdown",
   "metadata": {},
   "source": [
    "# <center>KIỂM ĐỊNH GIẢ THUYẾT (TẬP 2)</center>"
   ]
  },
  {
   "cell_type": "markdown",
   "metadata": {},
   "source": [
    "# FAQ\n",
    "1. Dùng H0 với phân phối normal hay student-t?  \n",
    "n $\\geq$ 30 thì dùng normal, không thì dùng t với độ tự do dof=n-1\n",
    "2. Kiểm định giả thuyết với H0 $\\sim$ normal còn gọi là t-test?  \n",
    "Yes\n",
    "3. Con số 0.05 là 1 bên hay 2 bên phân phối ( one-tailed or two-tailed )?  \n",
    "Tuỳ vào research hypothesis mình đặt ra:  \n",
    "    - H1: x > a => khoảng cut-off 0.05 để từ chối H0 ở bên phải.\n",
    "    - H1: x < a => khoảng cut-off 0.05 để từ chối H0 ở bên trái.\n",
    "    - H1: x $\\neq$ a => khoảng cut-off 0.05 chia làm 2 bên (0, 0.025) và (0.975, 1)  \n",
    "Ví dụ: 2-tailed h1 thì kết quả t-test có p-value =0.03,  \n",
    " 0.025< 0.03 <0.05, vì là 2-tailed nên H0 không bị từ chối.  \n",
    " <img src=\"https://miro.medium.com/max/1126/1*U2gOU1KYrADytx0ej3fVqA.jpeg\">"
   ]
  },
  {
   "cell_type": "markdown",
   "metadata": {},
   "source": [
    "---\n",
    "# Nhắc lại t-test trung bình 1 sample\n",
    "- **Null hypothesis**: trung bình của sample = m ( trung bình population)\n",
    "- Sử dụng hàm [ttest_1samp](https://docs.scipy.org/doc/scipy/reference/generated/scipy.stats.ttest_1samp.html#scipy.stats.ttest_1samp) trong scipy.stats  \n",
    "Input là (dãy số liệu, trung bình của population)  \n",
    "Output là (z-statistic, p-value)"
   ]
  },
  {
   "cell_type": "markdown",
   "metadata": {},
   "source": [
    "---\n",
    "# t-test proportion 1 sample\n",
    "- **Null hypothesis**: proportion của sample = p ( proportion của population)\n",
    "- còn gọi là binom test\n",
    "- [scipy.stats.binom_test](https://docs.scipy.org/doc/scipy/reference/generated/scipy.stats.binom_test.html#scipy.stats.binom_test)"
   ]
  },
  {
   "cell_type": "markdown",
   "metadata": {},
   "source": [
    "---\n",
    "# t-test trung bình 2 mẫu độc lập\n",
    "- **Null hypothesis**: trung bình của sample A = trung bình của sample B\n",
    "- Sample A và sample B không liên quan\n",
    "- Variance của A và B phải gần bằng nhau ( $0.5 < \\frac{\\sigma^2_A}{\\sigma^2_B} < 2 $)\n",
    "- [scipy.stats.ttest_ind](https://docs.scipy.org/doc/scipy/reference/generated/scipy.stats.ttest_ind.html#scipy.stats.ttest_ind)"
   ]
  },
  {
   "cell_type": "code",
   "execution_count": null,
   "metadata": {},
   "outputs": [],
   "source": []
  },
  {
   "cell_type": "code",
   "execution_count": null,
   "metadata": {},
   "outputs": [],
   "source": []
  },
  {
   "cell_type": "code",
   "execution_count": null,
   "metadata": {},
   "outputs": [],
   "source": []
  },
  {
   "cell_type": "code",
   "execution_count": null,
   "metadata": {},
   "outputs": [],
   "source": []
  },
  {
   "cell_type": "code",
   "execution_count": null,
   "metadata": {},
   "outputs": [],
   "source": []
  },
  {
   "cell_type": "code",
   "execution_count": null,
   "metadata": {},
   "outputs": [],
   "source": []
  },
  {
   "cell_type": "code",
   "execution_count": null,
   "metadata": {},
   "outputs": [],
   "source": []
  },
  {
   "cell_type": "code",
   "execution_count": null,
   "metadata": {},
   "outputs": [],
   "source": []
  },
  {
   "cell_type": "code",
   "execution_count": null,
   "metadata": {},
   "outputs": [],
   "source": []
  },
  {
   "cell_type": "code",
   "execution_count": null,
   "metadata": {},
   "outputs": [],
   "source": []
  },
  {
   "cell_type": "code",
   "execution_count": null,
   "metadata": {},
   "outputs": [],
   "source": []
  },
  {
   "cell_type": "code",
   "execution_count": 1,
   "metadata": {},
   "outputs": [
    {
     "ename": "ModuleNotFoundError",
     "evalue": "No module named 'statsmodels'",
     "output_type": "error",
     "traceback": [
      "\u001b[1;31m---------------------------------------------------------------------------\u001b[0m",
      "\u001b[1;31mModuleNotFoundError\u001b[0m                       Traceback (most recent call last)",
      "\u001b[1;32m<ipython-input-1-fc44e7141cac>\u001b[0m in \u001b[0;36m<module>\u001b[1;34m\u001b[0m\n\u001b[0;32m      2\u001b[0m \u001b[1;32mimport\u001b[0m \u001b[0mnumpy\u001b[0m \u001b[1;32mas\u001b[0m \u001b[0mnp\u001b[0m\u001b[1;33m\u001b[0m\u001b[1;33m\u001b[0m\u001b[0m\n\u001b[0;32m      3\u001b[0m \u001b[1;32mimport\u001b[0m \u001b[0mscipy\u001b[0m\u001b[1;33m.\u001b[0m\u001b[0mstats\u001b[0m \u001b[1;32mas\u001b[0m \u001b[0mst\u001b[0m\u001b[1;33m\u001b[0m\u001b[1;33m\u001b[0m\u001b[0m\n\u001b[1;32m----> 4\u001b[1;33m \u001b[1;32mimport\u001b[0m \u001b[0mstatsmodels\u001b[0m \u001b[1;32mas\u001b[0m \u001b[0msm\u001b[0m\u001b[1;33m\u001b[0m\u001b[1;33m\u001b[0m\u001b[0m\n\u001b[0m",
      "\u001b[1;31mModuleNotFoundError\u001b[0m: No module named 'statsmodels'"
     ]
    }
   ],
   "source": [
    "import pandas as pd\n",
    "import numpy as np\n",
    "import scipy.stats as st\n",
    "import statsmodels as sm"
   ]
  },
  {
   "cell_type": "code",
   "execution_count": null,
   "metadata": {},
   "outputs": [],
   "source": [
    "# sử dụng hàm này\n"
   ]
  },
  {
   "cell_type": "markdown",
   "metadata": {},
   "source": [
    "4. Áp dụng cho tỉ lệ proportion được không?  \n",
    "Được, lúc ấy phân phối H0 $\\sim$ N ( mean=$p_0$, std =$\\sqrt{\\frac{p_0(1-p_0)}{n}}$),  \n",
    "Sau đó tính p-value cho proportion của data.\n",
    "5. Áp dụng cho hiệu của trung bình hay trung bình hiệu được không?  \n",
    "Được\n",
    "    - H0: hai sample độc lập có trung bình giống nhau   \n",
    "    Hiệu của trung bình $\\sim N(0, \\;S_p\\sqrt{\\frac{1}{n_1} +\\frac{1}{n_2}})$ với $S_p = \\sqrt{\\frac{(n_1-1)S_1^2 + (n_2-1)S_2^2}{n_1+n_2-2}}$  \n",
    "    - H0: hai sample trước và sau một thời gian/can thiệp (2 dependant samples) có trung bình giống nhau  \n",
    "    Trung bình của hiệu $\\sim N(0, \\;\\frac{S_d}{\\sqrt{n}})$"
   ]
  },
  {
   "cell_type": "code",
   "execution_count": null,
   "metadata": {},
   "outputs": [],
   "source": []
  },
  {
   "cell_type": "code",
   "execution_count": null,
   "metadata": {},
   "outputs": [],
   "source": []
  },
  {
   "cell_type": "code",
   "execution_count": null,
   "metadata": {},
   "outputs": [],
   "source": []
  },
  {
   "cell_type": "code",
   "execution_count": 1,
   "metadata": {},
   "outputs": [],
   "source": [
    "import pandas as pd"
   ]
  },
  {
   "cell_type": "code",
   "execution_count": null,
   "metadata": {},
   "outputs": [],
   "source": []
  }
 ],
 "metadata": {
  "kernelspec": {
   "display_name": "Python 3",
   "language": "python",
   "name": "python3"
  },
  "language_info": {
   "codemirror_mode": {
    "name": "ipython",
    "version": 3
   },
   "file_extension": ".py",
   "mimetype": "text/x-python",
   "name": "python",
   "nbconvert_exporter": "python",
   "pygments_lexer": "ipython3",
   "version": "3.7.6"
  }
 },
 "nbformat": 4,
 "nbformat_minor": 4
}
